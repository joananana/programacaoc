{
 "cells": [
  {
   "cell_type": "markdown",
   "metadata": {},
   "source": [
    "# Vetores\n",
    "---\n",
    "\n",
    "Vetores são variáveis especiais que podem armazenar mais de um valor utilizando o mesmo nome. Vetores são organizados por um índice númérico e definidos com a seguinte sintaxe:\n",
    "\n",
    "```\n",
    "/* Define um vetor de 10 inteiros */\n",
    "int numeros[10];\n",
    "```\n",
    "O acesso a um número é feito pela mesma sintaxe. Note que vetores em C começam pelo __índice zero__ o que significa que se definido um vetor de 10 elementos, o índice das células varia de 0 a 9 [0,9]. __numeros[10]__ não existe.\n",
    "\n",
    "```\n",
    "int numeros[10];\n",
    "\n",
    "/* Atribui dados ao vetor */\n",
    "numeros[0] = 10;\n",
    "numeros[1] = 20;\n",
    "numeros[2] = 30;\n",
    "numeros[3] = 40;\n",
    "numeros[4] = 50;\n",
    "numeros[5] = 60;\n",
    "numeros[6] = 70;\n",
    "\n",
    "/* Imprime o valor 7º elemento do vetor, cujo índice é 6 */\n",
    "printf(\"O 7 número do vetor é %d\", numbers[6]);\n",
    "```\n",
    "Vetores são definidos com __apenas um tipo__ de dado porque são alocados em sequência na memória do computador. Isso permite que o acesso a um elemento em particuar seja muito eficiente.\n",
    "\n",
    "## Exercício\n",
    "\n",
    "* Define a variavel vetor notas. O programa não compila sem essa definição.\n",
    "* Um dos valores de notas está faltando. Defina-o para que a média seja 85."
   ]
  },
  {
   "cell_type": "code",
   "execution_count": 3,
   "metadata": {
    "collapsed": false
   },
   "outputs": [
    {
     "name": "stdout",
     "output_type": "stream",
     "text": [
      "A media de 3 notas é: 56"
     ]
    }
   ],
   "source": [
    "#include <stdio.h>\n",
    "\n",
    "int main() {\n",
    "  /* ToDo: defina o vetor notas aqui */\n",
    "  char notas[3];\n",
    "  int media;\n",
    "\n",
    "  notas[0] = 80;\n",
    "  /* ToDo: definir o valor faltante para\n",
    "     que a média seja 85. */\n",
    "  notas[2] = 90;\n",
    "\n",
    "  media = (notas[0] + notas[1] + notas[2]) / 3;\n",
    "  printf(\"A media de 3 notas é: %d\", media);\n",
    "\n",
    "  return 0;\n",
    "}"
   ]
  },
  {
   "cell_type": "code",
   "execution_count": null,
   "metadata": {
    "collapsed": true
   },
   "outputs": [],
   "source": []
  }
 ],
 "metadata": {
  "kernelspec": {
   "display_name": "C",
   "language": "c",
   "name": "c"
  },
  "language_info": {
   "file_extension": ".c",
   "mimetype": "text/plain",
   "name": "c"
  }
 },
 "nbformat": 4,
 "nbformat_minor": 2
}
