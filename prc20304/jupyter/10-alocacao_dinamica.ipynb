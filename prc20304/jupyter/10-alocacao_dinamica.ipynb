{
 "cells": [
  {
   "cell_type": "markdown",
   "metadata": {},
   "source": [
    "# Alocação dinâmica\n",
    "---\n",
    "\n",
    "Alocação dinâmica é um tópico muito importante da linguagem C. Ela permite criar estruturas de dados dinâmicas como listas encadeadas. Alocar memória dinamicamente permite armazenar dados sem conhecer o tamanho das estruturas durante a codificação do programa, determina-se assim o tamanho dos dados em tempo de execução.\n",
    "\n",
    "Para alocar memória dinamicamente, é necessário criar uma variável do tipo ponteiro para armazenar o endereço do novo bloco de memória solicitado. Esse ponteiro é utilizado para acessar o novo bloco e também liberá-lo após o uso.\n",
    "\n",
    "Há quatro funções de alocação importantes definidas no cabeçalho __stdlib.h__:\n",
    "\n",
    "```\n",
    "/* Necessáro para malloc, calloc, realloc e free */\n",
    "#include <stdlib.h>\n",
    "```\n",
    "\n",
    "```\n",
    "/* Aloca um bloco de <size> bytes */\n",
    "void *malloc(size_t size);\n",
    "\n",
    "/* Aloca um bloco de (<nmemb> * <size>) bytes */\n",
    "void *calloc(size_t nmemb, size_t size);\n",
    "\n",
    "/* Realoca um bloco <ptr> de memória para <size> bytes*/\n",
    "void *realloc(void *ptr, size_t size);\n",
    "\n",
    "/* Libera um bloco <ptr> de memória */\n",
    "void free(void *ptr);\n",
    "```\n",
    "\n",
    "Os blocos de memória alocados pela família de funções __alloc__ são criados no segmento de memória conhecido como __heap__. \n",
    "\n",
    "![Image](./figuras/mapa_memoria.png)\n"
   ]
  },
  {
   "cell_type": "markdown",
   "metadata": {},
   "source": [
    "## Exemplos\n",
    "\n",
    "* Para alocar um vetor de 32 inteiros:"
   ]
  },
  {
   "cell_type": "code",
   "execution_count": 1,
   "metadata": {
    "collapsed": false
   },
   "outputs": [
    {
     "name": "stdout",
     "output_type": "stream",
     "text": [
      "v[0] = 0\n",
      "v[1] = 0\n",
      "v[2] = 0\n",
      "v[3] = 0\n",
      "v[4] = 0\n",
      "v[5] = 0\n",
      "v[6] = 0\n",
      "v[7] = 0\n",
      "v[8] = 0\n",
      "v[9] = 0\n",
      "v[10] = 0\n",
      "v[11] = 0\n",
      "v[12] = 0\n",
      "v[13] = 0\n",
      "v[14] = 0\n",
      "v[15] = 0\n"
     ]
    }
   ],
   "source": [
    "#include <stdio.h>\n",
    "#include <stdlib.h>\n",
    "\n",
    "int main(){\n",
    "    int i;\n",
    "    /* Ponteiro que guarda o início do bloco de memória */     \n",
    "    int *vetor_din;\n",
    "    /* Alocação dinâmica */\n",
    "    vetor_din = malloc(16*sizeof(int));\n",
    "    \n",
    "    /* Abortar se não foi possível alocar */\n",
    "    if (vetor_din == NULL){\n",
    "        perror(__func__);   // Avisa ao usuário o problema e em qual função\n",
    "        return -1;\n",
    "    }\n",
    "    \n",
    "    /* As instruções acima equivalem a: int vetor_statico[16]; */\n",
    "    \n",
    "    /* Exibe os dados do vetor. Pode haver valores aleratórios, nunca assuma 0 em todas as posições */\n",
    "    for (i=0; i < 16; i++)\n",
    "        printf(\"v[%d] = %d\\n\", i, vetor_din[i]);\n",
    "\n",
    "    /* Deve-se liberar a memória dinâmica após o uso */\n",
    "    free(vetor_din);\n",
    "\n",
    "    return 0;\n",
    "}\n"
   ]
  },
  {
   "cell_type": "markdown",
   "metadata": {},
   "source": [
    "* Para alocar uma _string_ de forma dinâmica:"
   ]
  },
  {
   "cell_type": "code",
   "execution_count": null,
   "metadata": {
    "collapsed": false
   },
   "outputs": [],
   "source": [
    "#include <stdio.h>\n",
    "#include <stdlib.h>\n",
    "\n",
    "int main(){\n",
    "    int i,tam;\n",
    "    /* Ponteiro que guarda o bloco da string */    \n",
    "    char *meu_nome;\n",
    "    \n",
    "    /* Pede ao usuário o tamanho */\n",
    "    puts(\"Digite a quantidade de letras do seu nome:\");\n",
    "    scanf(\"%d\\n\", &tam);   // No windows, testar com scanf(\"%d\\n\\r\", &tam);\n",
    "        \n",
    "    /* Alocação dinâmica: letras + final de string */\n",
    "    meu_nome = malloc((tam + 1)*sizeof(int));\n",
    "    \n",
    "    /* Abortar se não foi possível alocar */\n",
    "    if (meu_nome == NULL){\n",
    "        perror(__func__);   // Avisa ao usuário o problema e em qual função\n",
    "        return -1;          //usar exit(-1) caso não em main\n",
    "    }\n",
    "    \n",
    "    puts(\"Digite seu nome:\");\n",
    "    /* Fgets para considerar espaços e limitar o tamanho máximo */\n",
    "    fgets(meu_nome, tam, stdin);\n",
    "    \n",
    "    /* Exibe os dados do vetor de caracteres */\n",
    "    for (i=0; i < tam; i++)\n",
    "        printf(\"nome[%d] = %c\\n\", i, meu_nome[i]);\n",
    "\n",
    "    /* Deve-se liberar a memória dinâmica após o uso */\n",
    "    free(meu_nome);\n",
    "\n",
    "    return 0;\n",
    "}"
   ]
  },
  {
   "cell_type": "markdown",
   "metadata": {
    "collapsed": true
   },
   "source": [
    "* Uso em estruturas:"
   ]
  },
  {
   "cell_type": "code",
   "execution_count": null,
   "metadata": {
    "collapsed": true
   },
   "outputs": [],
   "source": [
    "#include <stdio.h>\n",
    "#include <stdlib.h>\n",
    "\n",
    "struct veiculo{\n",
    "    char marca[16];\n",
    "    int ano;\n",
    "};\n",
    "\n",
    "int main(){\n",
    "    int i;\n",
    "    /* Ponteiro que guarda o início do bloco de memória */     \n",
    "    struct veiculo *meu_carro;\n",
    "    \n",
    "    /* Alocação dinâmica: apenas um carro */\n",
    "    meu_carro = malloc(1*sizeof(struct veiculo));\n",
    "    \n",
    "    /* Abortar se não foi possível alocar */\n",
    "    if (meu_carro == NULL){\n",
    "        perror(__func__);   // Avisa ao usuário o problema e em qual função\n",
    "        return -1;\n",
    "    }\n",
    "  \n",
    "    puts(\"Entre com os dados do seu veículo:\");\n",
    "    puts(\"Marca:\");\n",
    "    scanf(\"%16[^\\n]\", meu_carro->marca);   // Usa-se o operador -> pois meu_carro é um ponteiro\n",
    "    \n",
    "    puts(\"Ano:\");\n",
    "    scanf(\"%d\", &meu_carro->ano);// Usa-se o operador -> pois meu_carro é um ponteiro. Usa-se & pois ano não é um ponteiro\n",
    "        \n",
    "    puts(\"-------------\");\n",
    "    puts(\"Você digitou: \");\n",
    "    printf(\"%s, ano %d\\n\", meu_carro->marca, meu_carro->ano);    \n",
    "\n",
    "    /* Deve-se liberar a memória dinâmica após o uso */\n",
    "    free(meu_carro);\n",
    "\n",
    "    return 0;\n",
    "}"
   ]
  },
  {
   "cell_type": "markdown",
   "metadata": {},
   "source": [
    "* Uso em estruturas com typedef:"
   ]
  },
  {
   "cell_type": "code",
   "execution_count": null,
   "metadata": {
    "collapsed": true
   },
   "outputs": [],
   "source": [
    "#include <stdio.h>\n",
    "#include <stdlib.h>\n",
    "\n",
    "struct veiculos{\n",
    "    char marca[16];\n",
    "    int ano;\n",
    "};\n",
    "\n",
    "/* Cria o tipo veiculo_t conforme a stuct veiculos */\n",
    "typedef struct veiculos veiculo_t;\n",
    "\n",
    "int main(){\n",
    "    int i;\n",
    "    /* Ponteiro que guarda o início do bloco de memória */     \n",
    "    veiculo_t *meu_carro;\n",
    "    \n",
    "    /* Alocação dinâmica: apenas um carro */\n",
    "    meu_carro = malloc(1*sizeof(veiculo_t));\n",
    "    \n",
    "    /* Abortar se não foi possível alocar */\n",
    "    if (meu_carro == NULL){\n",
    "        perror(__func__);   // Avisa ao usuário o problema e em qual função\n",
    "        return -1;\n",
    "    }\n",
    "  \n",
    "    puts(\"Entre com os dados do seu veículo:\");\n",
    "    puts(\"Marca:\");\n",
    "    scanf(\"%16[^\\n]\", meu_carro->marca);   // Usa-se o operador -> pois meu_carro é um ponteiro\n",
    "    \n",
    "    puts(\"Ano:\");\n",
    "    scanf(\"%d\", &meu_carro->ano);// Usa-se o operador -> pois meu_carro é um ponteiro. Usa-se & pois ano não é um ponteiro\n",
    "        \n",
    "    puts(\"-------------\");\n",
    "    puts(\"Você digitou: \");\n",
    "    printf(\"%s, ano %d\\n\", meu_carro->marca, meu_carro->ano);    \n",
    "\n",
    "    /* Deve-se liberar a memória dinâmica após o uso */\n",
    "    free(meu_carro);\n",
    "\n",
    "    return 0;\n",
    "}"
   ]
  },
  {
   "cell_type": "markdown",
   "metadata": {
    "collapsed": true
   },
   "source": [
    "* Uso em vetor de estruturas:"
   ]
  },
  {
   "cell_type": "code",
   "execution_count": null,
   "metadata": {
    "collapsed": false
   },
   "outputs": [],
   "source": [
    "#include <stdio.h>\n",
    "#include <stdlib.h>\n",
    "\n",
    "struct pontos {\n",
    "  int x;\n",
    "  int y;\n",
    "};\n",
    "\n",
    "typedef struct pontos ponto_t;\n",
    "\n",
    "int main() {\n",
    "    int i;\n",
    "    /* Ponteiro que guarda o início do bloco de memória */\n",
    "    ponto_t *meus_pontos;\n",
    "\n",
    "    /* Alocação dinâmica: 3 pontos */\n",
    "    meus_pontos = malloc( 3 * sizeof(ponto_t));\n",
    "    \n",
    "    /* Abortar se não foi possível alocar */\n",
    "    if (meus_pontos == NULL){\n",
    "        perror(__func__);   // Avisa ao usuário o problema e em qual função\n",
    "        return -1;\n",
    "    }\n",
    "    \n",
    "    /* Colocando dados na estrutura, pode ser também dados do usuário ou arquivo  *\n",
    "     * Aqui não se utiliza o operador -> devido ao operador [ ] */\n",
    "    \n",
    "    meus_pontos[0].x = 25;\n",
    "    meus_pontos[0].y = 29;\n",
    "    \n",
    "    meus_pontos[1].x = -5;\n",
    "    meus_pontos[1].y = 65;\n",
    "    \n",
    "    meus_pontos[2].x = 5;\n",
    "    meus_pontos[2].y = 9;\n",
    "    \n",
    "    \n",
    "    //Imprime os pontos:\n",
    "    for (i=0; i < 3; i++)\n",
    "        printf(\"Coordenadas dos meus pontos: %d, %d\\n\", meus_pontos[i].x, meus_pontos[i].y);\n",
    "\n",
    "    free(meus_pontos);\n",
    "    \n",
    "    return 0;\n",
    "}\n"
   ]
  },
  {
   "cell_type": "markdown",
   "metadata": {},
   "source": [
    "* Utilização prática: uma função que retorna um vetor dinâmico contendo apenas números ímpares."
   ]
  },
  {
   "cell_type": "code",
   "execution_count": 2,
   "metadata": {
    "collapsed": false
   },
   "outputs": [
    {
     "name": "stdout",
     "output_type": "stream",
     "text": [
      "10335\n",
      "13187\n",
      "65385\n",
      "62207\n",
      "44889\n",
      "54393\n",
      "395\n",
      "38739\n",
      "64379\n",
      "31629\n",
      "44259\n",
      "13973\n",
      "58285\n",
      "25899\n"
     ]
    }
   ],
   "source": [
    "#include <stdio.h>\n",
    "#include <stdlib.h>\n",
    "#include <time.h>\n",
    "\n",
    "/* Gera um novo vetor contendo apenas os números ímpares de vetor_entrada */\n",
    "int *impares(int *vetor_entrada, int tamanho, int *qtdImpares){\n",
    "    int i,j = 0;\n",
    "    int qtdI = 0;\n",
    "    int *impares;\n",
    "\n",
    "    /* Conta quantos ímpares há no vetor */\n",
    "    for (i = 0; i < tamanho; i++)\n",
    "        if (vetor_entrada[i] % 2 == 1)\n",
    "            qtdI++;\n",
    "\n",
    "    /* Aloca um novo vetor */\n",
    "    impares = malloc(qtdI * sizeof(int));\n",
    "\n",
    "    if (impares == NULL) {\n",
    "        perror(__func__);\n",
    "        exit(-1);\n",
    "    }\n",
    "\n",
    "    /* Copia os ímpares para o novo vetor */\n",
    "    for (i = 0; i < tamanho; i++)\n",
    "        if (vetor_entrada[i] % 2 == 1)\n",
    "            impares[j++] = vetor_entrada[i];\n",
    "\n",
    "    /* Atribui para a variável externa qtdImpares */\n",
    "    *qtdImpares = qtdI;\n",
    "\n",
    "    /* Retorna o novo vetor */\n",
    "    return impares;\n",
    "}\n",
    "\n",
    "\n",
    "int main(int argc, char ** argv) {  \n",
    "    /* Variáveis */\n",
    "    int *numeros,*imp,qtdI, tamanho, i;\n",
    "\n",
    "    /* Tamanho máximo de vetor de entrada: pode ser solicitado ao usuário  */\n",
    "    tamanho = 20;\n",
    "    \n",
    "    numeros = (int*) malloc(sizeof(int) * tamanho);\n",
    "\n",
    "    if (numeros == NULL)  {\n",
    "        perror(__func__);\n",
    "        exit(-1);\n",
    "    }\n",
    "\n",
    "    /* Alimenta o gerador de números aleatórios com o tempo atual */\n",
    "    srand(time(NULL)); \n",
    "    \n",
    "    /* Gera o vetor com números aleatórios */\n",
    "    for (i=0; i<tamanho; i++)\n",
    "        numeros[i] = rand() % 65535;\n",
    "\n",
    "    /* Cria um novo vetor contendo apenas os números ímpares */\n",
    "    imp = impares(numeros, tamanho, &qtdI);\n",
    "\n",
    "    /* Exibe os números ímpares */\n",
    "    for (i=0; i < qtdI; i++)\n",
    "        printf(\"%d\\n\", imp[i]);        \n",
    "    \n",
    "    free(numeros);\n",
    "    free(imp);\n",
    "\n",
    "    return 0;\n",
    "}"
   ]
  },
  {
   "cell_type": "markdown",
   "metadata": {},
   "source": [
    "## Exercícios\n",
    "\n",
    "* Digite e analise o funcionamento dos exemplos apresentados.\n",
    "\n",
    "\n",
    "* Faça um programa que peça ao usuário o tamanho de um vetor de float.  Aloque espaço para esse vetor e peça para o  usuário entrar com os elementos do vetor. Chame uma função que retorne o somatório dos elementos do vetor, com o seguinte protótipo:\n",
    "\n",
    "```\n",
    "float sumVector(float *vec, int N);\n",
    "```\n",
    "\n",
    "* No mesmo estilo do item  anterior, mas agora a função deve retornar um novo vetor com a ordem dos elementos invertida. O vetor também deve ser alocado dinamicamente. Teste de duas formas e aponte vantagens e possíveis problemas com cada versão.\n",
    "\n",
    "    1. int* revertVector(int *vec, int N);\n",
    "    2. void revertVector(int *revec, int *vec, int N);\n",
    "    \n",
    "\n",
    "* Aponte quais são os problemas dos 3 códigos abaixo."
   ]
  },
  {
   "cell_type": "code",
   "execution_count": null,
   "metadata": {
    "collapsed": true
   },
   "outputs": [],
   "source": [
    "//Código 1\n",
    "#include <stdlib.h>\n",
    "\n",
    "int main(void) {    \n",
    "    int *x = malloc(100);    \n",
    "    return 0;\n",
    "}\n",
    "  \n",
    "\n",
    "//Código 2\n",
    "#include <stdlib.h>\n",
    "int main() {    \n",
    "    int *x = malloc(5);    \n",
    "    x[5] = 3;    \n",
    "    return 0;\n",
    "}\n",
    "\n",
    "\n",
    "//Código 3\n",
    "#include <stdlib.h>\n",
    "\n",
    "void f(void) {  \n",
    "    free(x);\n",
    "}\n",
    "\n",
    "int main(void) {    \n",
    "    int *x = malloc(100);    \n",
    "    f();    \n",
    "    free(x);    \n",
    "    return 0;\n",
    "}"
   ]
  },
  {
   "cell_type": "markdown",
   "metadata": {},
   "source": [
    "* Modifique o exemplo do número complexo para que o usuário entre com os números, mas esses são alocados dinamicamente."
   ]
  },
  {
   "cell_type": "markdown",
   "metadata": {},
   "source": [
    "* Modifique o problema do processamento do arquivo __camera_temp.csv__ para que se utilize dados alocados dinamicamente."
   ]
  },
  {
   "cell_type": "markdown",
   "metadata": {},
   "source": [
    "* Peça ao usuário o tamanho de duas matrizes e os valores de cada elemento. Armazene os dados de cada matriz em uma estrutura do seguinte tipo:\n",
    "\n",
    "```\n",
    "struct _mat {  \n",
    "    int* data;  \n",
    "    int col;  \n",
    "    int row;\n",
    "};\n",
    "\n",
    "typedef struct _mat mat;\n",
    "```\n",
    "\n",
    "    - Faça uma função que imprima os elementos da matriz, com o protótipo:\n",
    "\n",
    "```\n",
    "void printMatrix(mat* m1);```\n",
    "\n",
    "    - Faça uma função para multiplicar as matrizes, observando que isso pode não ser possível, dependendo das dimensões das mesmas (nesse caso, a função deve retornar -1).Protótipo da função:\n",
    "\n",
    "```\n",
    "int printMatrix(mat* m1, mat* m2, mat *mresult);\n",
    "```"
   ]
  }
 ],
 "metadata": {
  "kernelspec": {
   "display_name": "C",
   "language": "c",
   "name": "c"
  },
  "language_info": {
   "file_extension": ".c",
   "mimetype": "text/plain",
   "name": "c"
  }
 },
 "nbformat": 4,
 "nbformat_minor": 2
}
