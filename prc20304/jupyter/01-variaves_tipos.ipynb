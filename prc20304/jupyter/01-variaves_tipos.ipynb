{
 "cells": [
  {
   "cell_type": "markdown",
   "metadata": {},
   "source": [
    "# Variables and Types\n",
    "---\n",
    "A linguem possui diversos tipos de variávels como:\n",
    "\n",
    "* Inteiros: números inteiros positivos ou negativos. Define-se usando __char__, __int__, __short__, __long__ ou ___long long___.\n",
    "* Inteiros positivos: números inteiros apenas positivos. Define-se usando __unsigned char__, __unsigned int__, __unsigned short__, __unsigned long__ ou ___unsigned long long__.\n",
    "* Números com ponto flutuante: números rais (como frações). Define-se usando __float__ e __double__.\n",
    "    \n",
    "A diferença entre os tipos de varíavel define os limites máximos e mínimos. Um __char__ pode armazenar números de -128 a 127 (1 byte), enquanto um __long__ pode variar de -2,147,483,648 a 2,147,483,647 (__long__ e alguns outros tipos numéricos podem limites difentes em entre difernetes computadores, por exemplo, de  –9,223,372,036,854,775,808 a 9,223,372,036,854,775,807 em uma máquina de 64-bit).\n",
    "\n",
    "Note que o C não define um tipo __booleano__. Geralmente pode ser definido como:\n",
    "```\n",
    "#define BOOL char\n",
    "#define FALSO 0\n",
    "#define VERDADEIRO 1\n",
    "```\n",
    "C utiliza vetores (ou arranjos) de caracteres para definir __strings__. Isso será explicado na tópico específico de Strings.\n",
    "\n",
    "## Criando variáveis\n",
    "\n",
    "Para números inteiros, geralmente utiliza-se o tipo __int__ que é o tamanho de uma \"palavra\" básica do processador que executa o código. Na maioria dos computadores atuais, um __int__ tem 4 bytes ou 32 bits: limite de -2,147,483,648 a 2,147,483,647.\n",
    "\n",
    "Para definir duas variáveis, foo e bar, utiliza-se a seguinte sintaxe:\n",
    "```\n",
    "int foo;      //Valor inicial indeterminado\n",
    "int bar = 1;  //Valor inicial igual a 1\n",
    "```\n",
    "\n",
    "Agora com a criação de variáveis, pode-se fazer alguns cálculos. Assumindo que a, b, c, d e c são variáveis, pode-se simplesmente utilizar as operações de adição, subtração e multiplicação para atribuir um novo valor a variável a:\n",
    "\n",
    "```\n",
    "int a = 0, b = 1, c = 2, d = 3, e = 4;\n",
    "a = b - c + d * e;\n",
    "printf(\"%d\", a);    /* Isso imprime 11, pois 1-2+3*4 = 11 */\n",
    "```\n",
    "## Exercício\n",
    "\n",
    "Complemente o programa para calcular a soma dos números a,b e c:"
   ]
  },
  {
   "cell_type": "code",
   "execution_count": 5,
   "metadata": {
    "collapsed": false
   },
   "outputs": [
    {
     "name": "stdout",
     "output_type": "stream",
     "text": [
      "A soma de a, b, and c é 0.000000lll."
     ]
    }
   ],
   "source": [
    "#include <stdio.h>\n",
    "\n",
    "int main(){\n",
    "    int a = 3;\n",
    "    float b = 4.5;\n",
    "    double c = 5.25;\n",
    "    float sum;\n",
    "\n",
    "    /* Faça o cálculo aqui */\n",
    "    \n",
    "        \n",
    "    printf(\"A soma de a, b, and c é %flll.\", sum);\n",
    "\n",
    "    return 0;\n",
    "}"
   ]
  },
  {
   "cell_type": "code",
   "execution_count": null,
   "metadata": {
    "collapsed": true
   },
   "outputs": [],
   "source": []
  }
 ],
 "metadata": {
  "kernelspec": {
   "display_name": "C",
   "language": "c",
   "name": "c"
  },
  "language_info": {
   "file_extension": ".c",
   "mimetype": "text/plain",
   "name": "c"
  }
 },
 "nbformat": 4,
 "nbformat_minor": 2
}
