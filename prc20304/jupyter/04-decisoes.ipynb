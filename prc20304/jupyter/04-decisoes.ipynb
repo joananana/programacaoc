{
 "cells": [
  {
   "cell_type": "markdown",
   "metadata": {},
   "source": [
    "# Tomando decisões\n",
    "\n",
    "Nós tomamos decisões durante o cotidiano das nossas vidas. Para tomar decisões, nós medimos as nossas __opções__ e isso também acontece nos programas.\n",
    "\n",
    "O formato estrutural geral das tomadas decisões em C pode ser ilustrado como:"
   ]
  },
  {
   "cell_type": "code",
   "execution_count": 3,
   "metadata": {
    "collapsed": false
   },
   "outputs": [
    {
     "name": "stdout",
     "output_type": "stream",
     "text": [
      "Teste é igual a 10"
     ]
    }
   ],
   "source": [
    "#include <stdio.h>\n",
    "\n",
    "int main(){\n",
    "\n",
    "    int teste = 10;\n",
    "\n",
    "    if (teste == 10) {\n",
    "        printf(\"Teste é igual a 10\");\n",
    "    }\n",
    "    \n",
    "    return 0;\n",
    "}"
   ]
  },
  {
   "cell_type": "markdown",
   "metadata": {},
   "source": [
    "## A instrução __if__\n",
    "\n",
    "A instrução __if__ permite-nos verificar se uma expressão é _verdadeira_ ou _falsa_ e executar um trecho de código baseado nesse teste.\n",
    "\n",
    "Para verificar se duas variáveis são iguais, utiliza-se o operador __==__ assim como ilustrado no exemplo acima. Inegualdades também podem ser verificadas:"
   ]
  },
  {
   "cell_type": "code",
   "execution_count": 5,
   "metadata": {
    "collapsed": false
   },
   "outputs": [
    {
     "name": "stdout",
     "output_type": "stream",
     "text": [
      "foo é maior que bar."
     ]
    }
   ],
   "source": [
    "#include <stdio.h>\n",
    "\n",
    "int main(){\n",
    "    /* Duas variáveis genéricas */\n",
    "    int foo = 1;\n",
    "    int bar = 2;\n",
    "\n",
    "    /* Se foo for menor que bar */\n",
    "    if (foo < bar) {\n",
    "        printf(\"foo é menor que bar.\");\n",
    "    }\n",
    "\n",
    "    /* Se foo for maior que bar */\n",
    "    if (foo > bar) {\n",
    "        printf(\"foo é maior que bar.\");\n",
    "    }\n",
    "\n",
    "    return 0;\n",
    "}"
   ]
  },
  {
   "cell_type": "markdown",
   "metadata": {},
   "source": [
    "Há ainda o comando __else__:"
   ]
  },
  {
   "cell_type": "code",
   "execution_count": 8,
   "metadata": {
    "collapsed": false
   },
   "outputs": [
    {
     "name": "stdout",
     "output_type": "stream",
     "text": [
      "foo é maior que bar."
     ]
    }
   ],
   "source": [
    "#include <stdio.h>\n",
    "\n",
    "int main(){\n",
    "    /* Duas variáveis genéricas */\n",
    "    int foo = 8;\n",
    "    int bar = 2;\n",
    "\n",
    "    /* Se foo for menor que bar */\n",
    "    if (foo < bar) {\n",
    "        printf(\"foo é menor que bar.\");\n",
    "    }\n",
    "    else {  /* senão */\n",
    "        printf(\"foo é maior que bar.\");\n",
    "    }\n",
    "\n",
    "    return 0;\n",
    "}"
   ]
  },
  {
   "cell_type": "markdown",
   "metadata": {},
   "source": [
    "Às vezes precimais mais do que duas opções e, nesse caso, podemos encadear vários __if__:"
   ]
  },
  {
   "cell_type": "code",
   "execution_count": 10,
   "metadata": {
    "collapsed": false
   },
   "outputs": [
    {
     "name": "stdout",
     "output_type": "stream",
     "text": [
      "foo é igual a bar."
     ]
    }
   ],
   "source": [
    "#include <stdio.h>\n",
    "\n",
    "int main(){\n",
    "    /* Duas variáveis genéricas */\n",
    "    int foo = 2;\n",
    "    int bar = 2;\n",
    "\n",
    "    /* Se foo for menor que bar */\n",
    "    if (foo < bar) {\n",
    "       printf(\"foo é menor que bar.\");\n",
    "    } else if (foo == bar) {\n",
    "        printf(\"foo é igual a bar.\");\n",
    "    } else {\n",
    "        printf(\"foo é maior que bar.\");\n",
    "    }\n",
    "\n",
    "    return 0;\n",
    "}"
   ]
  },
  {
   "cell_type": "markdown",
   "metadata": {},
   "source": [
    "Caso necessário, ainda se pode aninhar as tomadas de decisões:"
   ]
  },
  {
   "cell_type": "code",
   "execution_count": 1,
   "metadata": {
    "collapsed": false
   },
   "outputs": [
    {
     "name": "stdout",
     "output_type": "stream",
     "text": [
      "Pegue quantas pêras você quiser!\n"
     ]
    }
   ],
   "source": [
    "#include <stdio.h>\n",
    "\n",
    "int main(){\n",
    "\n",
    "    int peras_comidas = 22;\n",
    "    int peras_na_geladeira = 100;\n",
    "    int max_numero_peras = 50;\n",
    "\n",
    "    if (peras_na_geladeira > 80) {\n",
    "        if (peras_comidas < max_numero_peras) {\n",
    "            printf(\"Pegue quantas pêras você quiser!\\n\");\n",
    "        }\n",
    "    } else {\n",
    "        if (peras_comidas > peras_na_geladeira) {\n",
    "            printf(\"Não há mais pêras para você!\\n\");\n",
    "        }\n",
    "        else {\n",
    "            printf(\"Tudo bem, apenas mais uma.\\n\");\n",
    "        }\n",
    "    }\n",
    "    \n",
    "    return 0;\n",
    "}"
   ]
  },
  {
   "cell_type": "markdown",
   "metadata": {},
   "source": [
    "Duas o mais expressões podem ser avaliadas em conjunto utilizando operadores lógicos. Para verificar se duas expressões são ambas verdadeiras, usa-se o operador lógico E __&&__. Para verificar se apenas uma das expressões é verdadeira, usa-se o operador lógico OU __||__."
   ]
  },
  {
   "cell_type": "code",
   "execution_count": 2,
   "metadata": {
    "collapsed": false
   },
   "outputs": [
    {
     "name": "stdout",
     "output_type": "stream",
     "text": [
      "foo é menor que bar E moo é maior que bar.foo é menor que bar OU moo é maior que bar."
     ]
    }
   ],
   "source": [
    "#include <stdio.h>\n",
    "\n",
    "int main(){\n",
    "    int foo = 1;\n",
    "    int bar = 2;\n",
    "    int moo = 3;\n",
    "\n",
    "    if (foo < bar && moo > bar) {\n",
    "        printf(\"foo é menor que bar E moo é maior que bar.\");\n",
    "    }\n",
    "\n",
    "    if (foo < bar || moo > bar) {\n",
    "        printf(\"foo é menor que bar OU moo é maior que bar.\");\n",
    "    }\n",
    "    \n",
    "    return 0;\n",
    "}"
   ]
  },
  {
   "cell_type": "markdown",
   "metadata": {},
   "source": [
    "Há ainda o operador de negação:"
   ]
  },
  {
   "cell_type": "code",
   "execution_count": 3,
   "metadata": {
    "collapsed": false
   },
   "outputs": [
    {
     "name": "stdout",
     "output_type": "stream",
     "text": [
      "Teste não é igual a 10"
     ]
    }
   ],
   "source": [
    "#include <stdio.h>\n",
    "\n",
    "int main(){\n",
    "    int teste = 9;\n",
    "    \n",
    "    if (teste != 10) {\n",
    "        printf(\"Teste não é igual a 10\");\n",
    "    }    \n",
    "    return 0;\n",
    "}"
   ]
  },
  {
   "cell_type": "markdown",
   "metadata": {},
   "source": [
    "## Exercício\n",
    "\n",
    "Nesse exercício você deve construir um bloco de decisão dentro da função __adivinheNumero__. Essa função verifica se um número palpite é igual a 555. Se o palpite for 555, a função deve exibir a mensagem \"Correto. Você adivinhou\". Se o palpite for menor que 555, a função deve exibir a mensagem \"Seu palpite foi muito baixo\". Se o palpite for maior que 555 a função deve exibir a mensagem \"Seu palpite foi muito alto\"."
   ]
  },
  {
   "cell_type": "code",
   "execution_count": 5,
   "metadata": {
    "collapsed": false
   },
   "outputs": [
    {
     "name": "stdout",
     "output_type": "stream",
     "text": [
      "Palpite: 500\n",
      "Palpite: 600\n",
      "Palpite: 555\n"
     ]
    }
   ],
   "source": [
    "#include <stdio.h>\n",
    "\n",
    "void adivinheNumero(int palpite) {\n",
    "    printf(\"Palpite: %d\\n\", palpite);\n",
    "    \n",
    "    /* ToDo: escreva seu código aqui */\n",
    "        \n",
    "}\n",
    "\n",
    "int main() {\n",
    "    adivinheNumero(500);\n",
    "    adivinheNumero(600);\n",
    "    adivinheNumero(555);\n",
    "    \n",
    "    return 0;\n",
    "}"
   ]
  },
  {
   "cell_type": "code",
   "execution_count": null,
   "metadata": {
    "collapsed": true
   },
   "outputs": [],
   "source": []
  }
 ],
 "metadata": {
  "kernelspec": {
   "display_name": "C",
   "language": "c",
   "name": "c"
  },
  "language_info": {
   "file_extension": ".c",
   "mimetype": "text/plain",
   "name": "c"
  }
 },
 "nbformat": 4,
 "nbformat_minor": 2
}
