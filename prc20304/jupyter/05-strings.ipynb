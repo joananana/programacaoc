{
 "cells": [
  {
   "cell_type": "markdown",
   "metadata": {},
   "source": [
    "# Strings\n",
    "---\n",
    "\n",
    "_Strings_ em C são, na verdade, vetores de caracteres com o número zero na última posição. Para criar uma _string_ que não poderá ser modificada em tempo de execução, utilizamos a sintaxe abaixo (* é ponteiro que será tratado mais a frente):\n",
    "\n",
    "```\n",
    "char *nome = \"Juca Smith\";\n",
    "```\n",
    "\n",
    "No vetor temos:\n",
    "\n",
    "```\n",
    "nome[0] = 'J';\n",
    "nome[1] = 'u';\n",
    "nome[2] = 'c';\n",
    "nome[3] = 'a';\n",
    "nome[4] = ' ';\n",
    "nome[5] = 'S';\n",
    "nome[6] = 'm';\n",
    "nome[7] = 'i';\n",
    "nome[8] = 't';\n",
    "nome[9] = 'h';\n",
    "nome[10] = 0;  ou nome[11] = '\\0';\n",
    "```\n",
    "Se desejarmos definir uma _string_ como um vetor geral de caracteres, utiliza-se a sintaxe abaixo:\n",
    "\n",
    "```\n",
    "char nome[] = \"Juca Smith\";\n",
    "```\n",
    "\n",
    "A notação de colchetes vazio (__[ ]__) faz com que o compilador crie o vetor com o tamanho correto automaticamente.\n",
    "\n",
    "```\n",
    "char none[] = \"Juca Smith\";\n",
    "/* é igual a */\n",
    "char name[11] = \"Juca Smith\";\n",
    "```\n",
    "\n",
    "O tamanho do vetor que armazena uma _string_ é sempre o tamanho do conteúdo mais 1. Esse espaço unitário adicional é necessário para adiocionar o número __0__ como marcador do final da _string_. O marcador final é necessário para detectar-se quando uma string termina em tempo de execução.\n",
    "\n",
    "## Exibindo o conteúdo de strings\n",
    "\n",
    "Podemos usar o printf para imprimir e formatar uma string da seguinte forma:"
   ]
  },
  {
   "cell_type": "code",
   "execution_count": 1,
   "metadata": {
    "collapsed": false
   },
   "outputs": [
    {
     "name": "stdout",
     "output_type": "stream",
     "text": [
      "Juca Smith tem 27 anos.\n"
     ]
    }
   ],
   "source": [
    "#include <stdio.h>\n",
    "\n",
    "int main(){\n",
    "    \n",
    "    char *nome = \"Juca Smith\";\n",
    "    int idade = 27;\n",
    "    \n",
    "    /* Exibe 'Juca Smith tem 27 anos.' */\n",
    "    printf(\"%s tem %d anos.\\n\", nome, idade);\n",
    "\n",
    "    return 0;\n",
    "}"
   ]
  },
  {
   "cell_type": "markdown",
   "metadata": {},
   "source": [
    "Note que __\\n__ é o caracter de quebra de linha.\n",
    "\n",
    "## Tamanho de strings\n",
    "\n",
    "Para descobrir o tamanho de uma _string_, utiliza-se a função __srlen__ passando a string como argumento:\n",
    "\n",
    "char * name = \"Juca Smith\";\n",
    "printf(\"%d\\n\",strlen(name));\n"
   ]
  },
  {
   "cell_type": "code",
   "execution_count": 5,
   "metadata": {
    "collapsed": false
   },
   "outputs": [
    {
     "name": "stdout",
     "output_type": "stream",
     "text": [
      "'Juca Smith' tem 10 caracteres\n"
     ]
    }
   ],
   "source": [
    "#include <stdio.h>\n",
    "/* Funções extras de manipulação de strings */\n",
    "#include <string.h> \n",
    "\n",
    "int main(){\n",
    "    \n",
    "    char *nome = \"Juca Smith\";\n",
    "       \n",
    "    printf(\"'%s' tem %ld caracteres\\n\",nome, strlen(nome));\n",
    "\n",
    "    return 0;\n",
    "}"
   ]
  },
  {
   "cell_type": "code",
   "execution_count": null,
   "metadata": {
    "collapsed": true
   },
   "outputs": [],
   "source": []
  }
 ],
 "metadata": {
  "kernelspec": {
   "display_name": "C",
   "language": "c",
   "name": "c"
  },
  "language_info": {
   "file_extension": ".c",
   "mimetype": "text/plain",
   "name": "c"
  }
 },
 "nbformat": 4,
 "nbformat_minor": 2
}
