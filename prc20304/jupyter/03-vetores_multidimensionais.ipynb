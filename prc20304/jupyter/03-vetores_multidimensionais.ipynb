{
 "cells": [
  {
   "cell_type": "markdown",
   "metadata": {},
   "source": [
    "# Vetores multidimencionais\n",
    "---\n",
    "\n",
    "A linguagem C permite criar vetores multidimensionais através da seguinte declaração genérica:\n",
    "\n",
    "```\n",
    "tipo nome[tam 1][tam 2]...[tam N];\n",
    "```\n",
    "\n",
    "Onde: \n",
    "- _tipo_: __float__, __int__, __char__ ...;\n",
    "- _nome_: nome da variável vetor;\n",
    "- _tam _: tamanho da respectiva dimensão do vetor.\n",
    "\n",
    "Como por exemplo:\n",
    "\n",
    "```\n",
    "int foo[1][2][3];\n",
    "char vogais[1][5] = { 'a', 'b', 'c', 'd', 'e'};\n",
    "```\n",
    "\n",
    "## Vetores bidimensionais\n",
    "\n",
    "A forma mais simples de vetores multidimensionais é o bidimensional. Um vetor bidimensional pode ser entendido como uma lista de vetores. Para declarar uma vetor bidimensional de tamanho [x][y], pode-se utilizar:\n",
    "\n",
    "```\n",
    "tipoIinteiro nomeArray[x][y];\n",
    "```\n",
    "\n",
    "_tipoInteiro_ pode ser qualquer tipo C (__int__, __char__, __long__, __double__) e _nomeArray_ dever ser um nome de variável válido. Um vetor bidimensional poder ser considerado como uma tabela de [x] linhas por [y] colunas. Um vetor bidimensional com três linhas e 4 colunas pode ser visualizado como a tabela seguinte:\n",
    "\n",
    "```\n",
    "int foo[3][4];\n",
    "```\n",
    "|         | coluna 0  | coluna 1  | coluna 2  | coluna 3  |\n",
    "|---------|-----------|-----------|-----------|-----------|\n",
    "| __linha 0__ | foo[0][0] | foo[0][1] | foo[0][2] | foo[0][3] |\n",
    "| __linha 1__ | foo[1][0] | foo[1][1] | foo[1][2] | foo[1][3] |\n",
    "| __linha 2__ | foo[2][0] | foo[2][1] | foo[2][2] | foo[2][3] |\n",
    "\n",
    "\n",
    "Neste sentido, cara elemento do vetor é identificado por seu nome na forma __foo[i][j]__, onde __foo__ é o nome do vetor/variável e 'i' e 'j' são índices que identificam cada elemento de __foo__.\n",
    "\n",
    "Técnicamente, a dimensão 'x' é opcional em vetores inicializados na declaração:\n",
    "\n",
    "char vogais[ ][5] = {\n",
    "    {'A', 'E', 'I', 'O', 'U'},\n",
    "    {'a', 'e', 'i', 'o', 'u'}\n",
    "};\n",
    "\n",
    "O compilador consegue inferir que existem duas dimensões pela sintaxe da declaração, mas ainda é necessário informar a dimensão __[y]__. O compilador pode ser esperto, mas é necessário informar o máximo de valores que você deseja na dimensão __[y]__ para que a quantidade de memória solicitada seja alocada corretamente.\n",
    "\n",
    "## Inicialização de vetores bidimensionais\n",
    "\n",
    "As dimensões dos vetores multidimensionais são especificadas pelos colcheter [ ] para cada linha.No caso do exemplo abaixo, inicializa-se um vetor com 3 linhas por 4 colunas. Nesse caso em particular, pode-se omitir _[3]_.\n",
    "\n",
    "```\n",
    "int vetor_a[3][4] = {  \n",
    "   {0, 1, 2, 3} ,   /*  valores indexados pela linha 0 */\n",
    "   {4, 5, 6, 7} ,   /*  valores indexados pela linha 1 */\n",
    "   {8, 9, 10, 11}   /*  valores indexados pela linha 2 */\n",
    "};\n",
    "```\n",
    "Os vetores são alocados de forma linear na memória, portanto a inicialização abaixo também é válida:\n",
    "\n",
    "```\n",
    "int vetor_a[3][4] = {0,1,2,3,4,5,6,7,8,9,10,11};\n",
    "```\n",
    "\n",
    "## Acesso as elementos de vetores \n",
    "\n",
    "Os elementos são acessados por índices internos aos colchetes:"
   ]
  },
  {
   "cell_type": "code",
   "execution_count": 3,
   "metadata": {
    "collapsed": false
   },
   "outputs": [
    {
     "name": "stdout",
     "output_type": "stream",
     "text": [
      "vetor_a[2][3] = 11\n",
      "vetor_a[0][2] = 2\n",
      "vetor_a[1][1] = 5\n",
      "vetor_a[3][3] = 10\n"
     ]
    }
   ],
   "source": [
    "#include <stdio.h>\n",
    "\n",
    "int main(){\n",
    "        \n",
    "    int vetor_a[3][4] = {  \n",
    "       {0, 1, 2, 3},   /*  valores indexados pela linha 0 */\n",
    "       {4, 5, 6, 7},   /*  valores indexados pela linha 1 */\n",
    "       {8, 9, 10, 11}   /*  valores indexados pela linha 2 */\n",
    "    };\n",
    "    \n",
    "    \n",
    "    printf(\"vetor_a[2][3] = %d\\n\", vetor_a[2][3]);\n",
    "    printf(\"vetor_a[0][2] = %d\\n\", vetor_a[0][2]);\n",
    "    printf(\"vetor_a[1][1] = %d\\n\", vetor_a[1][1]);\n",
    "    printf(\"vetor_a[2][2] = %d\\n\", vetor_a[2][2]);    \n",
    "\n",
    "    return 0;\n",
    "}"
   ]
  },
  {
   "cell_type": "markdown",
   "metadata": {
    "collapsed": true
   },
   "source": [
    "## Exercício\n",
    "\n",
    "Deseja-se calcular as notas médias de cinco estudantes de duas disciplinas: matemática e física. Para fazer isso, utiliza-se um vetor bidimensional chamado __notas__. As notas de matemáticas estarão armazenadas na linha 0 (__notas[0]__) e as notas de físicas estarão armazenadas na linha 1 (__notas[1]__). Siga os passos abaixo para completar o priograma:\n",
    "\n",
    "- Declare um vetor bidimensional de inteiros.\n",
    "- Complete os laços especificando as condições de paradada.\n",
    "- Calcule as notas de cada disciplina."
   ]
  },
  {
   "cell_type": "code",
   "execution_count": 8,
   "metadata": {
    "collapsed": false
   },
   "outputs": [
    {
     "name": "stdout",
     "output_type": "stream",
     "text": [
      "A média obtida para a disciplina 0 é: 394.00\n",
      "A média obtida para a disciplina 1 é: 414.00\n"
     ]
    }
   ],
   "source": [
    "#include <stdio.h>\n",
    "\n",
    "int main() {\n",
    "    /* ToDo: declare o vetor notas aqui */\n",
    "  \n",
    "    float media;\n",
    "    int i;\n",
    "    int j;\n",
    "\n",
    "    /* Notas de matemática */\n",
    "    notas[0][0] = 80;\n",
    "    notas[0][1] = 70;\n",
    "    notas[0][2] = 65;\n",
    "    notas[0][3] = 89;\n",
    "    notas[0][4] = 90;\n",
    "\n",
    "    /* Notas de física */\n",
    "    notas[1][0] = 85;\n",
    "    notas[1][1] = 80;\n",
    "    notas[1][2] = 80;\n",
    "    notas[1][3] = 82;\n",
    "    notas[1][4] = 87;\n",
    "\n",
    "    /* ToDo: completar o limite de iteração do laço */\n",
    "    for (i = 0; i <    ; i++) {\n",
    "        media = 0;\n",
    "        for (j = 0; j <     ; j++) {\n",
    "            media += notas[i][j];\n",
    "        }\n",
    "        /* ToDo: calcule a média da disciplina i */\n",
    "        \n",
    "        printf(\"A média obtida para a disciplina %d é: %.2f\\n\", i, media);\n",
    "    }\n",
    "\n",
    "    return 0;\n",
    "}"
   ]
  }
 ],
 "metadata": {
  "kernelspec": {
   "display_name": "C",
   "language": "c",
   "name": "c"
  },
  "language_info": {
   "file_extension": ".c",
   "mimetype": "text/plain",
   "name": "c"
  }
 },
 "nbformat": 4,
 "nbformat_minor": 2
}
