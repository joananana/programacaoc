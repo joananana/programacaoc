{
 "cells": [
  {
   "cell_type": "markdown",
   "metadata": {},
   "source": [
    "# Olá, mundo!\n",
    "---\n",
    "\n",
    "\n",
    "## Introdução\n",
    "\n",
    "A linguagem C é uma linguagem de programação de propósito geral que se relaciona muito bem com o modo como os computares funcionam. O entendimento desse funcionamento é um aspecto importante da programação C. Apesar de ser uma linguagem considerada de difícil aprendizagem, C é de fato uma linguagem muito simples e muito poderosa.\n",
    "\n",
    "C é uma linguagem muito utilizada. É a linguagem utilizada na implementação de aplicações como o Windows, Linux, Android, interpretador Python, o Git, o sistema de injeção eletrônica do seu carro além de muitas outras.\n",
    "\n",
    "C é uma linguagem compilada - isso significa que para um programa executar, um compilador (GCC ou Visual Studio) deve obter o código por nós escrito, processá-lo e, então, criar um arquivo __executável__. Este arquivo pode ser executado e fará o que nós escrevemos no código.\n",
    "\n",
    "## O primeiro programa: Olá, mundo!\n",
    "\n",
    "Todo programa C utiliza bibliotecas que potencializam a criação de aplicações complexas através funções padronizadas. Por exemplo, a função mais básica é conhecida como __printf__, que imprimi dados na tela do computador, e essa função é definida no arquivo de cabeçalho __stdio.h__. Um arquivo de cabeçalho parametriza as funções e ajuda o compilador na hora de verificar se os dados passados à função são válidos.\n",
    "\n",
    "Para dar a habilidade de imprimir dados na tela e executar o __printf__ em um programa, nós devemos includir a seguinte diretiva na primiera linha do código fonte:\n",
    "\n",
    "```\n",
    "#include <stdio.h>\n",
    "```\n",
    "\n",
    "A segunda parte do código é formado pelas instruções que desejamos que o computador faça. Essas instruções sempre residem em uma função e começam pela função principal: __main__."
   ]
  },
  {
   "cell_type": "code",
   "execution_count": 3,
   "metadata": {
    "collapsed": false
   },
   "outputs": [],
   "source": [
    "int main() {\n",
    "  // ... As instruções começam aqui... e // é um comentário\n",
    "}"
   ]
  },
  {
   "cell_type": "markdown",
   "metadata": {},
   "source": [
    "A palavra reservada __int__ indica que a função __main__ retorna um número inteiro. O número retornado pela função __main__ indica se o programa executou ou não de forma correta. Se desejamos informar que o programa funcionou corretamente, retornamos o número 0. Um número diferente de 0 indica que houve um problema e a execução falhou.\n",
    "\n",
    "Nesse execício, retornaremos o número 0 pela instrução __return 0__ para indicar que o programa funcionou corretamente.\n",
    "\n",
    "```\n",
    "return 0;\n",
    "```\n",
    "\n",
    "Note que cada linha de __instrução__ em C termina com um ponto-vírgula \";\", para informar que uma nova linha de instrução irá começar.\n",
    "\n",
    "Por último, precisamos chamar a função __printf__ para imprimir nossa mensagem de boas vindas.\n",
    "\n",
    "## Exercício\n",
    "\n",
    "Modifique o o código abaixo para imprimir \"Olá mundo!\""
   ]
  },
  {
   "cell_type": "code",
   "execution_count": 2,
   "metadata": {
    "collapsed": false
   },
   "outputs": [
    {
     "name": "stdout",
     "output_type": "stream",
     "text": [
      "Goodbye, World!"
     ]
    }
   ],
   "source": [
    "#include <stdio.h>\n",
    "\n",
    "int main() {\n",
    "  printf(\"Goodbye, World!\");\n",
    "  return 0;\n",
    "}"
   ]
  }
 ],
 "metadata": {
  "celltoolbar": "Raw Cell Format",
  "kernelspec": {
   "display_name": "C",
   "language": "c",
   "name": "c"
  },
  "language_info": {
   "file_extension": ".c",
   "mimetype": "text/plain",
   "name": "c"
  }
 },
 "nbformat": 4,
 "nbformat_minor": 2
}
