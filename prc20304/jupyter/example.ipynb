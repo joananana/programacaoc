{
 "cells": [
  {
   "cell_type": "markdown",
   "metadata": {},
   "source": [
    "# Valid code"
   ]
  },
  {
   "cell_type": "code",
   "execution_count": 1,
   "metadata": {
    "collapsed": false
   },
   "outputs": [
    {
     "name": "stdout",
     "output_type": "stream",
     "text": [
      "Hello world\n"
     ]
    }
   ],
   "source": [
    "#include <stdio.h>\n",
    "\n",
    "int main() {\n",
    "    printf(\"Hello world\\n\");\n",
    "}"
   ]
  },
  {
   "cell_type": "markdown",
   "metadata": {},
   "source": [
    "But the kernel will also display compilations warnings and errors if we have some. Let's try to remove the `#include <stdio.h>` statement, which if necessary for `printf` to work."
   ]
  },
  {
   "cell_type": "markdown",
   "metadata": {},
   "source": [
    "# Code generating warnings during compilation"
   ]
  },
  {
   "cell_type": "code",
   "execution_count": 2,
   "metadata": {
    "collapsed": false
   },
   "outputs": [
    {
     "name": "stderr",
     "output_type": "stream",
     "text": [
      "/var/folders/31/qct57s856n5f0b2r4tgbmn1c0000gn/T/tmp0Qan0v.c:2:5: warning: implicitly declaring library function 'printf' with type 'int (const char *, ...)' [-Wimplicit-function-declaration]\n",
      "    printf(\"Hello world\\n\");\n",
      "    ^\n",
      "/var/folders/31/qct57s856n5f0b2r4tgbmn1c0000gn/T/tmp0Qan0v.c:2:5: note: include the header <stdio.h> or explicitly provide a declaration for 'printf'\n",
      "1 warning generated.\n"
     ]
    },
    {
     "name": "stdout",
     "output_type": "stream",
     "text": [
      "Hello world\n"
     ]
    }
   ],
   "source": [
    "int main() {\n",
    "    printf(\"Hello world\\n\");\n",
    "}"
   ]
  },
  {
   "cell_type": "markdown",
   "metadata": {},
   "source": [
    "You can see that the warning are displayed, but the code is still executed."
   ]
  },
  {
   "cell_type": "markdown",
   "metadata": {},
   "source": [
    "# Code generating errors during compilation"
   ]
  },
  {
   "cell_type": "code",
   "execution_count": 3,
   "metadata": {
    "collapsed": false
   },
   "outputs": [
    {
     "name": "stderr",
     "output_type": "stream",
     "text": [
      "/var/folders/31/qct57s856n5f0b2r4tgbmn1c0000gn/T/tmpw4Kz3c.c:2:5: warning: implicitly declaring library function 'printf' with type 'int (const char *, ...)' [-Wimplicit-function-declaration]\n",
      "    printf(\"Hello world\")\n",
      "    ^\n",
      "/var/folders/31/qct57s856n5f0b2r4tgbmn1c0000gn/T/tmpw4Kz3c.c:2:5: note: include the header <stdio.h> or explicitly provide a declaration for 'printf'\n",
      "/var/folders/31/qct57s856n5f0b2r4tgbmn1c0000gn/T/tmpw4Kz3c.c:2:26: error: expected ';' after expression\n",
      "    printf(\"Hello world\")\n",
      "                         ^\n",
      "                         ;\n",
      "1 warning and 1 error generated.\n",
      "[C kernel] GCC exited with code 1, the executable will not be executed"
     ]
    },
    {
     "name": "stdout",
     "output_type": "stream",
     "text": []
    }
   ],
   "source": [
    "int main() {\n",
    "    printf(\"Hello world\")\n",
    "}"
   ]
  },
  {
   "cell_type": "markdown",
   "metadata": {},
   "source": [
    "# Projeto Kairos\n",
    "\n",
    "\n",
    "## Guia de instalação banco de dados temporal\n",
    "\n",
    "- Instalar InfluxDB\n",
    "- Instalar Grafana [GrafanaInstall](https://grafana.com/grafana/download?platform=arm)\n",
    "- Instalar Python3 Influx: ```pip3 install influxdb --user``` \n",
    "- Instalar paho-mqtt: ```pip3 install paho-mqtt --user``` \n",
    "\n",
    "### Configurar InfluxDB\n",
    "\n",
    "Maiores detalhes  em [InfluxManual](https://docs.influxdata.com/influxdb/v1.7/administration/authentication_and_authorization/#authorization)\n",
    "\n",
    "- Criação usuário _admin_: \n",
    "```\n",
    "CREATE USER admin WITH PASSWORD '<password>' WITH ALL PRIVILEGES\n",
    "```\n",
    "\n",
    "- Influx desabilita uysuários por padrão, portanto altera a configuração de _/etc/influxdb/influxdb.conf_ para:\n",
    "``` \n",
    "[http]\n",
    "  enabled = true\n",
    "  bind-address = \":8086\"\n",
    "  auth-enabled = true #<--------------\n",
    "  log-enabled = true\n",
    "  write-tracing = false\n",
    "  pprof-enabled = false\n",
    "  https-enabled = true\n",
    "  https-certificate = \"/etc/ssl/influxdb.pem\"\n",
    "```\n",
    "\n",
    "- Criação usuário _xyz_:\n",
    "```\n",
    "    CREATE USER xyz WITH PASSWORD '123456'\n",
    "```\n",
    "\n",
    "- Conexão a partir desse momento exige usuário e senha:\n",
    "\n",
    "```\n",
    "    influx -username admin -password <senha>\n",
    "```\n",
    "\n",
    "- Criação do banco de dados:\n",
    "\n",
    "```\n",
    "    CREATE DATABASE \"myDB\"\n",
    "```\n",
    "\n",
    "- Criação do banco de dados com duração de 1 dia e replicação igual a 1 [Database Mangement](https://docs.influxdata.com/influxdb/v1.7/query_language/database_management/):\n",
    "\n",
    "```\n",
    "     CREATE RETENTION POLICY \"one_day_only\" ON \"myDB\" DURATION 1d REPLICATION 1\n",
    "```\n",
    "\n",
    "- Permissão de escrita/leitura para o usuário:\n",
    "\n",
    "```\n",
    "    GRANT ALL ON \"database_name\" TO \"username\"\n",
    "```\n",
    "\n",
    "\n",
    "\n",
    "\n",
    "\n",
    "\n"
   ]
  },
  {
   "cell_type": "code",
   "execution_count": null,
   "metadata": {
    "collapsed": true
   },
   "outputs": [],
   "source": []
  },
  {
   "cell_type": "code",
   "execution_count": null,
   "metadata": {
    "collapsed": true
   },
   "outputs": [],
   "source": []
  }
 ],
 "metadata": {
  "kernelspec": {
   "display_name": "C",
   "language": "c",
   "name": "c"
  },
  "language_info": {
   "file_extension": ".c",
   "mimetype": "text/plain",
   "name": "c"
  }
 },
 "nbformat": 4,
 "nbformat_minor": 0
}
