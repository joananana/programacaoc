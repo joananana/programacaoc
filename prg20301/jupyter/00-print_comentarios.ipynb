{
 "cells": [
  {
   "cell_type": "markdown",
   "metadata": {},
   "source": [
    "# Meu primeiro programa\n",
    "---"
   ]
  },
  {
   "cell_type": "markdown",
   "metadata": {},
   "source": [
    "## Olá Mundo!\n",
    "\n",
    "- Tradicionalmente o primeiro programa escrito é um __``Olá Mundo''__.\n",
    "- Para introduzir você ao mundo em Python:"
   ]
  },
  {
   "cell_type": "code",
   "execution_count": 2,
   "metadata": {},
   "outputs": [
    {
     "name": "stdout",
     "output_type": "stream",
     "text": [
      "Olá mundo, meu nome é Juquinha\n"
     ]
    }
   ],
   "source": [
    "print(\"Olá mundo, meu nome é Juquinha\")"
   ]
  },
  {
   "cell_type": "markdown",
   "metadata": {},
   "source": [
    "## Comentários\n",
    "\n",
    "- Comentários são ignorados pela computador quando um programa é executado.\n",
    "- Eles ajudam na compreensão do código.\n",
    "- Comentários em Python são ativados pelo caractere: __#__"
   ]
  },
  {
   "cell_type": "code",
   "execution_count": 4,
   "metadata": {},
   "outputs": [
    {
     "name": "stdout",
     "output_type": "stream",
     "text": [
      "Olá!\n",
      "# isso não é comentário\n"
     ]
    }
   ],
   "source": [
    "# Isso é um comentário\n",
    "print(\"Olá!\")  # A partir daqui também é!\n",
    "\n",
    "print(\"# isso não é comentário\")\n",
    "# Um novo comentário pode ser colocado aqui!"
   ]
  },
  {
   "cell_type": "markdown",
   "metadata": {},
   "source": [
    "## A função print"
   ]
  },
  {
   "cell_type": "markdown",
   "metadata": {},
   "source": [
    "- A função print imprime dados do programa.\n",
    "- Funções em Python são parecidas com as matemáticas:\n",
    "  - seno(x)\n",
    "  - cosseno(x)\n",
    "  - f(x)\n",
    "- Funções são sempre seguidas por parênteses __(   )__.\n",
    "- Os dados colocados entre parênteses são conhecidos como __argumentos__.\n",
    "\n",
    "- Para personalizar a função print:"
   ]
  },
  {
   "cell_type": "code",
   "execution_count": 6,
   "metadata": {},
   "outputs": [
    {
     "name": "stdout",
     "output_type": "stream",
     "text": [
      "Desejo imprimir o \" por algum motivo.\n",
      "Esse arquivo está em C:\\minha_pasta\n"
     ]
    }
   ],
   "source": [
    "# Se eu precisar imprimir o caractere \" \n",
    "# Devo colocar uma barra na frente\n",
    "print(\"Desejo imprimir o \\\" por algum motivo.\")\n",
    "\n",
    "# E se eu quiser o caractere \\ ?\n",
    "print(\"Esse arquivo está em C:\\\\minha_pasta\")"
   ]
  },
  {
   "cell_type": "markdown",
   "metadata": {},
   "source": [
    "| Caractere | Descrição     |\n",
    "|  :---:    |   :---:       |\n",
    "| \\\\'       | Aspas simples |\n",
    "| \\\\\"       | Aspas duplas  |\n",
    "| \\t        | Tabulação     |\n",
    "| \\n        | Nova linha    |"
   ]
  },
  {
   "cell_type": "code",
   "execution_count": 15,
   "metadata": {},
   "outputs": [
    {
     "name": "stdout",
     "output_type": "stream",
     "text": [
      "Você pode imprimir texto usando aspas duplas.\n",
      "Você pode imprimir texto usando aspas simples.\n",
      "\n",
      "Se você quiser imprimir umas aspas duplas,\n",
      "use a barra invertida. \"Ótimo!\" disse ele.\n",
      "\n",
      "Se você quiser imprimir uma barra invertida,\n",
      "use mais uma. Assim \\ imprime uma barra, e \\\\, duas.\n",
      "\n",
      "Você pode usar um print vazio para pular uma linha.\n",
      "\n",
      "Ou usar o caractere especial n. Estas\n",
      "são\n",
      "novas\n",
      "linhas.\n",
      "Você também pode imprimir\n",
      "em\n",
      "mútiplas linhas usando\n",
      "três\n",
      "apas. Caso for\n",
      "necessário.\n"
     ]
    }
   ],
   "source": [
    "print(\"Você pode imprimir texto usando aspas duplas.\")\n",
    "print('Você pode imprimir texto usando aspas simples.\\n')\n",
    "\n",
    "print(\"Se você quiser imprimir umas aspas duplas,\")\n",
    "print(\"use a barra invertida. \\\"Ótimo!\\\" disse ele.\\n\")\n",
    "\n",
    "print(\"Se você quiser imprimir uma barra invertida,\")\n",
    "print(\"use mais uma. Assim \\\\ imprime uma barra, e \\\\\\\\, duas.\\n\")\n",
    "\n",
    "print(\"Você pode usar um print vazio para pular uma linha.\")\n",
    "print()\n",
    "\n",
    "print(\"Ou usar o caractere especial n. Estas\\nsão\\nnovas\\nlinhas.\")\n",
    "print(\"\"\"Você também pode imprimir\n",
    "em\n",
    "mútiplas linhas usando\n",
    "três\n",
    "apas. Caso for\n",
    "necessário.\"\"\")"
   ]
  }
 ],
 "metadata": {
  "kernelspec": {
   "display_name": "Python 3",
   "language": "python",
   "name": "python3"
  },
  "language_info": {
   "codemirror_mode": {
    "name": "ipython",
    "version": 3
   },
   "file_extension": ".py",
   "mimetype": "text/x-python",
   "name": "python",
   "nbconvert_exporter": "python",
   "pygments_lexer": "ipython3",
   "version": "3.7.3"
  }
 },
 "nbformat": 4,
 "nbformat_minor": 2
}
