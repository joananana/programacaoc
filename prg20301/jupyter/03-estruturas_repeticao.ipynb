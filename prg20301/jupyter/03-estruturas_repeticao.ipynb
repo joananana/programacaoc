{
 "cells": [
  {
   "cell_type": "markdown",
   "metadata": {},
   "source": [
    "# Estruturas de repetição\n",
    "\n",
    "As Estruturas de repetição permitem repetir um grupo de ações enquanto determinadas condições são satisfeitas. Ela são __denominados laços ou loops.__\n",
    " \n",
    "Instruções primitivas básicas:\n",
    "\n",
    "- enquanto: __while__\n",
    "- para: __for__\n",
    "\n",
    "## While\n",
    "\n",
    "O laço __while__ permite executar um conjunto de insturções __enquanto__ a condição for __verdadeira__.\n",
    "\n",
    "- O teste lógico ocorre no __início do laço__.\n",
    "\n",
    "![fig3](figuras/while-simple.png)\n",
    "\n",
    "- Exemplo abaixo calcula a média aritmética das notas de 10 alunos exibindo-as individualmente."
   ]
  },
  {
   "cell_type": "code",
   "execution_count": null,
   "metadata": {},
   "outputs": [],
   "source": [
    "# Variável de contagem (condição do while)\n",
    "contador = 0\n",
    "\n",
    "# Repetição\n",
    "while (contador < 10):\n",
    "    print('Aluno: ' + str(contador))\n",
    "    \n",
    "    # Entrada de dados\n",
    "    n1 = float(input('Digite nota 1: '))\n",
    "    n2 = float(input('Digite nota 2: '))\n",
    "    n3 = float(input('Digite nota 3: '))\n",
    "    n4 = float(input('Digite nota 4: '))\n",
    "\n",
    "    # Processamento\n",
    "    ma = (n1 + n2 + n3 + n4) / 4\n",
    "    \n",
    "    # Decisão\n",
    "    if ma < 6:\n",
    "        print('Em recuperação: ' + str(ma))\n",
    "    else:\n",
    "        print('Aprovado: ' + str(ma))\n",
    "    \n",
    "    # Contador de alunos\n",
    "    contador = contador + 1\n",
    "\n",
    "# Fim do while (indentado à direita)\n",
    "print('Cálculos concluídos')"
   ]
  },
  {
   "cell_type": "markdown",
   "metadata": {},
   "source": [
    "- Exemplo abaixo calcula a média aritmética das notas dos alunos enquando o usuário quiser. Os dados são exibindo individualmente."
   ]
  },
  {
   "cell_type": "code",
   "execution_count": null,
   "metadata": {},
   "outputs": [],
   "source": [
    "# Continuação (condição do while)\n",
    "continuar = 's'\n",
    "\n",
    "# Repetição\n",
    "while (continuar == 's'):\n",
    "    \n",
    "    # Entrada de dados\n",
    "    n1 = float(input('Digite nota 1: '))\n",
    "    n2 = float(input('Digite nota 2: '))\n",
    "    n3 = float(input('Digite nota 3: '))\n",
    "    n4 = float(input('Digite nota 4: '))\n",
    "\n",
    "    # Processamento\n",
    "    ma = (n1 + n2 + n3 + n4) / 4\n",
    "    \n",
    "    # Decisão\n",
    "    if ma < 6:\n",
    "        print('Em recuperação: ' + str(ma))\n",
    "    else:\n",
    "        print('Aprovado: ' + str(ma))\n",
    "\n",
    "    # Continuar ou não?\n",
    "    continuar = input('Deseja continuar (s/n): ')\n",
    "\n",
    "# Fim do while (indentado à direita)"
   ]
  },
  {
   "cell_type": "markdown",
   "metadata": {},
   "source": [
    "## for\n",
    "\n",
    "Laços __for__ são utilizados para iterar em uma sequência. \n",
    "\n",
    "- Em cada iteração, a variável definida no laço irá incrementar.\n",
    " \n",
    "![fig3](figuras/for-simple.png)\n",
    "\n",
    "- Strings são sequências de caracteres:"
   ]
  },
  {
   "cell_type": "code",
   "execution_count": null,
   "metadata": {},
   "outputs": [],
   "source": [
    "# Para cada letra em \"banana\"\n",
    "for letra in \"banana\":\n",
    "    print(letra)"
   ]
  },
  {
   "cell_type": "markdown",
   "metadata": {},
   "source": [
    "- Pode-se executar qualquer instrução dentro do laço:"
   ]
  },
  {
   "cell_type": "code",
   "execution_count": null,
   "metadata": {},
   "outputs": [],
   "source": [
    "for letra in \"banana\":\n",
    "    if letra == 'a':\n",
    "        print('A')\n",
    "    else:\n",
    "        print(letra)    "
   ]
  },
  {
   "cell_type": "markdown",
   "metadata": {},
   "source": [
    "- A função __range__ permite criar sequências numéricas."
   ]
  },
  {
   "cell_type": "code",
   "execution_count": null,
   "metadata": {},
   "outputs": [],
   "source": [
    "# Para uma sequência de 6 números: [0,6[\n",
    "# Range começa em 0 por padrão.\n",
    "# O incrento da sequência é 1 por padrão.\n",
    "\n",
    "for numero in range(6):\n",
    "    print(numero)"
   ]
  },
  {
   "cell_type": "code",
   "execution_count": null,
   "metadata": {},
   "outputs": [],
   "source": [
    "# Range pode começar em 2 até 10, mas 10 não é incluso\n",
    "for numero in range(2,10):     # Intervalo [2,10[\n",
    "    print(numero)    "
   ]
  },
  {
   "cell_type": "code",
   "execution_count": null,
   "metadata": {},
   "outputs": [],
   "source": [
    "# Para mudar o intervalo de incremento\n",
    "for numero in range(2,30,3):     # Intervalo [2,30[ \n",
    "     print(numero)               # com incremento de 3\n"
   ]
  },
  {
   "cell_type": "markdown",
   "metadata": {},
   "source": [
    "- Exemplo: tabuada"
   ]
  },
  {
   "cell_type": "code",
   "execution_count": null,
   "metadata": {
    "scrolled": true
   },
   "outputs": [],
   "source": [
    "# Pede para o usuário\n",
    "tabuada = int(input('Qual tabuada? '))\n",
    "\n",
    "print('Range(0,11)')\n",
    "for numero in range(0,11):\n",
    "    print(numero * tabuada)\n",
    "    \n",
    "# ou\n",
    "print('Range mais esperto')\n",
    "for numero in range(0, tabuada * 11, tabuada):\n",
    "    print(numero)"
   ]
  },
  {
   "cell_type": "markdown",
   "metadata": {},
   "source": [
    "- Exemplo: funções matemáticas"
   ]
  },
  {
   "cell_type": "code",
   "execution_count": null,
   "metadata": {},
   "outputs": [],
   "source": [
    "# Valores de uma parábola\n",
    "for x in range(-10,11):\n",
    "    y = x**2 -9*x + 2\n",
    "    print(y)"
   ]
  },
  {
   "cell_type": "code",
   "execution_count": null,
   "metadata": {},
   "outputs": [],
   "source": [
    "# Funções mais avançacas requerem bibliotecas\n",
    "# Aqui estamos importando as funções seno (radianos)\n",
    "from math import sin\n",
    "\n",
    "# Valores da função seno\n",
    "for x in range(-10,11):\n",
    "    y = sin(x)\n",
    "    print(y)"
   ]
  },
  {
   "cell_type": "markdown",
   "metadata": {},
   "source": [
    "## Exercícios\n",
    "\n",
    "1. O código abaixo é um jogo de adivinhação. Modifique-o usando __laço while__ para que o jogo não termine enquanto o usuário não acertar."
   ]
  },
  {
   "cell_type": "code",
   "execution_count": null,
   "metadata": {},
   "outputs": [],
   "source": [
    "print('Bem vindo')\n",
    "print('Adivinhe o número entre 0 e 10')\n",
    "\n",
    "chute = 0\n",
    "alvo = 5\n",
    "\n",
    "chute = int(input('Número: '))\n",
    "\n",
    "if (chute < alvo):\n",
    "    print('Muito baixo!')\n",
    "\n",
    "if (chute > alvo):\n",
    "    print('Muito alto!')\n",
    "    \n",
    "if (chute ==  alvo):\n",
    "    print('Você acertou, parabéns')\n"
   ]
  },
  {
   "cell_type": "markdown",
   "metadata": {},
   "source": [
    "2. Peça um número ao usuário e mostre na tela a tabuada desse número (0 a 50).  "
   ]
  },
  {
   "cell_type": "code",
   "execution_count": null,
   "metadata": {},
   "outputs": [],
   "source": []
  },
  {
   "cell_type": "markdown",
   "metadata": {},
   "source": [
    "3. Peça ao usuário um número inteiro, informe se o número é par. Repita o processo até que o usuário digite o número zero.\n"
   ]
  },
  {
   "cell_type": "code",
   "execution_count": null,
   "metadata": {},
   "outputs": [],
   "source": []
  },
  {
   "cell_type": "markdown",
   "metadata": {},
   "source": [
    "4. Some os números que o usuário entrar até que ele digite o número 0."
   ]
  },
  {
   "cell_type": "code",
   "execution_count": null,
   "metadata": {},
   "outputs": [],
   "source": []
  },
  {
   "cell_type": "markdown",
   "metadata": {},
   "source": [
    "5. Peça um número para o usuário, mostre o maior número digitado até o momento. Encerre quando o usuário digitar -1."
   ]
  },
  {
   "cell_type": "code",
   "execution_count": null,
   "metadata": {},
   "outputs": [],
   "source": []
  },
  {
   "cell_type": "markdown",
   "metadata": {},
   "source": [
    "6. Implemente um programa que receba como entrada dois números, representando altura e largura. Imprima um retângulo formado com o caractere asterisco de altura e largura especificadas.   \n",
    "\n",
    "```\n",
    "Digite altura: 3\n",
    "Digite largura: \n",
    "**********\n",
    "**********\n",
    "**********\n",
    "```"
   ]
  },
  {
   "cell_type": "code",
   "execution_count": null,
   "metadata": {},
   "outputs": [],
   "source": []
  },
  {
   "cell_type": "markdown",
   "metadata": {},
   "source": [
    "7. Faça um programa que peça ao usuário um número máximo e imprima na tela a sequência (usando laço):\n",
    "\n",
    "1 3 5 7 9 11 ... NUM\\_MAX ... 11 9 7 5 3 1"
   ]
  },
  {
   "cell_type": "code",
   "execution_count": null,
   "metadata": {},
   "outputs": [],
   "source": []
  },
  {
   "cell_type": "markdown",
   "metadata": {},
   "source": [
    "8. Construa um programa que leia um conjunto de dados contendo altura e sexo ('M' para masculino e 'F' para feminino) de 10 pessoas e, depois, calcule e escreva:\n",
    "\n",
    "    - a maior altura;\n",
    "    - a média de altura das mulheres;\n",
    "    - o número de homens e a diferença porcentual entre eles e as mulheres."
   ]
  },
  {
   "cell_type": "code",
   "execution_count": null,
   "metadata": {},
   "outputs": [],
   "source": [
    "#Variáveis\n",
    "altura = 0.0\n",
    "sexo = 'F'\n",
    "\n",
    "numero_max_pessoas = 3   # é 10\n",
    "contador = 0\n",
    "\n",
    "maior_altura = 0.0\n",
    "\n",
    "acumulador_alturas = 0.0\n",
    "numero_mulheres = 0\n",
    "numero_homens = 0\n",
    "porcentual_homens = 0.0\n",
    "\n",
    "media_alturas = 0\n",
    "\n",
    "while (contador < numero_max_pessoas):   \n",
    "\n",
    "    altura = float(input('Digite a altura: '))\n",
    "    sexo = input('Digite o sexo (M/F): ')\n",
    "    \n",
    "    \n",
    "\n",
    "    if (altura > maior_altura):\n",
    "        maior_altura = altura\n",
    "        \n",
    "    if (sexo == 'F'):\n",
    "        acumulador_alturas = acumulador_alturas + altura\n",
    "        numero_mulheres = numero_mulheres + 1\n",
    "    \n",
    "    print(altura)\n",
    "    print(sexo)\n",
    "    \n",
    "    contador = contador + 1\n",
    "\n",
    "\n",
    "if (numero_mulheres != 0):\n",
    "    media_alturas = acumulador_alturas / numero_mulheres\n",
    "\n",
    "numero_homens = numero_max_pessoas - numero_mulheres\n",
    "porcentual_homens = numero_homens / numero_max_pessoas * 100\n",
    "\n",
    "print('A maior altura: ' + str(maior_altura))\n",
    "print('Média de altura das mulheres: ' + str(media_alturas))\n",
    "print('Porcentual homens: ' + str(porcentual_homens))\n",
    "print('Porcentual mulheres: ' + str(100 - porcentual_homens))    "
   ]
  },
  {
   "cell_type": "code",
   "execution_count": null,
   "metadata": {},
   "outputs": [],
   "source": []
  },
  {
   "cell_type": "code",
   "execution_count": null,
   "metadata": {},
   "outputs": [],
   "source": []
  }
 ],
 "metadata": {
  "kernelspec": {
   "display_name": "Python 3",
   "language": "python",
   "name": "python3"
  },
  "language_info": {
   "codemirror_mode": {
    "name": "ipython",
    "version": 3
   },
   "file_extension": ".py",
   "mimetype": "text/x-python",
   "name": "python",
   "nbconvert_exporter": "python",
   "pygments_lexer": "ipython3",
   "version": "3.7.3"
  }
 },
 "nbformat": 4,
 "nbformat_minor": 2
}
