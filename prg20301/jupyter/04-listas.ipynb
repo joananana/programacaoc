{
 "cells": [
  {
   "cell_type": "markdown",
   "metadata": {},
   "source": [
    "# Listas ou sequências\n",
    "\n",
    "A estrutura de dados mais básica em Python é a lista (parecido com o vetor em outras linguagens). Cada elemento da lista é relacionado com um número: __sua posição ou índice__.\n",
    "\n",
    "O primeiro elemento é o índice zero, o segundo é um, e assim por diante.\n",
    "\n",
    "As listas em Python facilitam algumas operações, como:\n",
    "\n",
    "    - Indexação.\n",
    "    - Corte.\n",
    "    - Soma.\n",
    "    - Multiplicação.\n",
    "    - Verificação de membros.\n",
    "\n",
    "Há ainda maneiras práticas de encontrar o comprimento da sequência, encontrar o maior ou menor elemento, ou ainda, se um dado existe.\n",
    "\n",
    "Uma característica interessante das listas em Python é que os dados podem ser de tipos diferentes.\n"
   ]
  },
  {
   "cell_type": "code",
   "execution_count": 4,
   "metadata": {},
   "outputs": [
    {
     "name": "stdout",
     "output_type": "stream",
     "text": [
      "['programação', 'circuitos', 1997, 2000]\n",
      "[1, 2, 3, 4, 5]\n",
      "['a', 'b', 'c', 'd']\n"
     ]
    }
   ],
   "source": [
    "lista_1 = ['programação', 'circuitos', 1997, 2000];\n",
    "lista_2 = [1, 2, 3, 4, 5 ];\n",
    "lista_3 = [\"a\", \"b\", \"c\", \"d\"];\n",
    "\n",
    "# print exibe todos os dados das listas\n",
    "print(lista_1)\n",
    "print(lista_2)\n",
    "print(lista_3)"
   ]
  },
  {
   "cell_type": "code",
   "execution_count": 5,
   "metadata": {
    "scrolled": true
   },
   "outputs": [
    {
     "name": "stdout",
     "output_type": "stream",
     "text": [
      "programação\n",
      "circuitos\n",
      "1997\n",
      "2000\n"
     ]
    }
   ],
   "source": [
    "# Para navegar em cada item da sequência individualmente\n",
    "\n",
    "# Lê-se: para cada item i em lista_1\n",
    "for i in lista_1:\n",
    "    print(i)"
   ]
  },
  {
   "cell_type": "code",
   "execution_count": 9,
   "metadata": {},
   "outputs": [
    {
     "name": "stdout",
     "output_type": "stream",
     "text": [
      "Item da lista: Juca\n",
      "Letras:\n",
      "J\n",
      "u\n",
      "c\n",
      "a\n",
      "\n",
      "Item da lista: Zezinho\n",
      "Letras:\n",
      "Z\n",
      "e\n",
      "z\n",
      "i\n",
      "n\n",
      "h\n",
      "o\n",
      "\n",
      "Item da lista: Cebolinha\n",
      "Letras:\n",
      "C\n",
      "e\n",
      "b\n",
      "o\n",
      "l\n",
      "i\n",
      "n\n",
      "h\n",
      "a\n",
      "\n"
     ]
    }
   ],
   "source": [
    "# String são listas de caracters, portanto a instrução abaixo é válida:\n",
    "\n",
    "nomes = ['Juca', 'Zezinho', 'Cebolinha'];\n",
    "\n",
    "for i in nomes:\n",
    "    print('Item da lista: ' + i)\n",
    "    print('Letras:')\n",
    "    \n",
    "    for letra in i:\n",
    "        print(letra)\n",
    "        \n",
    "    # Para deixar um espaço\n",
    "    print()\n"
   ]
  },
  {
   "cell_type": "markdown",
   "metadata": {},
   "source": [
    "## Operações em listas\n",
    "\n",
    "- Acresentar um dado no final da lista:  append(dado)"
   ]
  },
  {
   "cell_type": "code",
   "execution_count": 11,
   "metadata": {},
   "outputs": [
    {
     "name": "stdout",
     "output_type": "stream",
     "text": [
      "['abelha', 'zangão']\n",
      "['abelha', 'zangão', 'formiga']\n"
     ]
    }
   ],
   "source": [
    "a = [\"abelha\", \"zangão\"]\n",
    "print(a)\n",
    "\n",
    "a.append(\"formiga\")\n",
    "\n",
    "print(a)"
   ]
  },
  {
   "cell_type": "markdown",
   "metadata": {},
   "source": [
    "- Extender uma lista ou unir duas listas: extend( uma_lista )"
   ]
  },
  {
   "cell_type": "code",
   "execution_count": 12,
   "metadata": {},
   "outputs": [
    {
     "name": "stdout",
     "output_type": "stream",
     "text": [
      "['programação', 'circuitos', 1997, 2000, 1, 2, 3, 4, 5]\n"
     ]
    }
   ],
   "source": [
    "lista_1 = ['programação', 'circuitos', 1997, 2000];\n",
    "lista_2 = [1, 2, 3, 4, 5 ];\n",
    "\n",
    "lista_1.extend(lista_2);\n",
    "\n",
    "print(lista_1)"
   ]
  },
  {
   "cell_type": "markdown",
   "metadata": {},
   "source": [
    "- Inserir um dado: insert(i, x)"
   ]
  },
  {
   "cell_type": "code",
   "execution_count": 15,
   "metadata": {},
   "outputs": [
    {
     "name": "stdout",
     "output_type": "stream",
     "text": [
      "['abelha', 'zangão']\n",
      "['formiga', 'abelha', 'zangão']\n",
      "['formiga', 'abelha', 'mosca', 'zangão']\n"
     ]
    }
   ],
   "source": [
    "a = [\"abelha\", \"zangão\"]\n",
    "print(a)\n",
    "\n",
    "# Adiciona na posição 0, início da lista\n",
    "a.insert(0, \"formiga\")\n",
    "print(a)\n",
    "\n",
    "# Adiciona na posição 2\n",
    "a.insert(2, \"mosca\")\n",
    "print(a)"
   ]
  },
  {
   "cell_type": "markdown",
   "metadata": {},
   "source": [
    "- Remover do fim: pop()\n",
    "- Remover todos os elementos: clear()\n",
    "- Número de vezes que um elemento aparece na lista: count(x)\n",
    "- Ordenar: sort()\n",
    "- Inverter: reverse()\n",
    "- Comprimento: len(s)"
   ]
  },
  {
   "cell_type": "markdown",
   "metadata": {},
   "source": [
    "## Usando listas para desenhar gráficos"
   ]
  },
  {
   "cell_type": "code",
   "execution_count": 22,
   "metadata": {},
   "outputs": [
    {
     "name": "stdout",
     "output_type": "stream",
     "text": [
      "Tamanho de x é 20\n",
      "Tamanho de y é 20\n",
      "[0, 1, 2, 3, 4, 5, 6, 7, 8, 9, 10, 11, 12, 13, 14, 15, 16, 17, 18, 19]\n",
      "[2, -6, -12, -16, -18, -18, -16, -12, -6, 2, 12, 24, 38, 54, 72, 92, 114, 138, 164, 192]\n"
     ]
    },
    {
     "data": {
      "image/png": "[encoded data removed]",
      "text/plain": [
       "<Figure size 432x288 with 1 Axes>"
      ]
     },
     "metadata": {
      "needs_background": "light"
     },
     "output_type": "display_data"
    }
   ],
   "source": [
    "# Funções mais avançacas requerem bibliotecas\n",
    "# Nesse caso importamos o matplotlib que desenha os gráficos\n",
    "import matplotlib.pyplot as plt\n",
    "\n",
    "# Necessário apenas no jupyter. \n",
    "%matplotlib inline\n",
    "\n",
    "# Valores de x\n",
    "x = list(range(0, 20))\n",
    "\n",
    "# Uma lista com número de elementos de x contendo 0 em todos os elementos\n",
    "y = [0] * int(len(x))\n",
    "\n",
    "print('Tamanho de x é ' + str(len(x)))\n",
    "print('Tamanho de y é ' + str(len(y)))\n",
    "\n",
    "# Calcula y para cada i\n",
    "for i in x:\n",
    "    y[i] =  i**2 -9*i + 2\n",
    "\n",
    "# Dados\n",
    "print(x)\n",
    "print(y)    \n",
    "    \n",
    "# Desenhando\n",
    "plt.plot(x,y)\n",
    "plt.ylabel('y = x^2 - 9x + 2')\n",
    "plt.show()"
   ]
  },
  {
   "cell_type": "markdown",
   "metadata": {},
   "source": [
    "## Referências\n",
    "\n",
    "- [Manual matplotlib](https://matplotlib.org/tutorials/introductory/pyplot.html)\n",
    "- [Métodos e outros exemplos de lista](http://python-ds.com/python-3-list-methods)"
   ]
  },
  {
   "cell_type": "markdown",
   "metadata": {},
   "source": [
    "## Exercícios\n",
    "\n",
    "1. (Resolvido) Peça ao usuário pedir 10 números inteiros e mostre os resultados ordenados:"
   ]
  },
  {
   "cell_type": "code",
   "execution_count": 26,
   "metadata": {},
   "outputs": [
    {
     "name": "stdout",
     "output_type": "stream",
     "text": [
      "Entre com um número: 7\n",
      "Entre com um número: 2\n",
      "Entre com um número: 5\n",
      "Entre com um número: 6\n",
      "Entre com um número: 74\n",
      "Entre com um número: 87\n",
      "Entre com um número: 5\n",
      "Entre com um número: 1\n",
      "Entre com um número: -1\n",
      "Entre com um número: 2\n",
      "[-1, 1, 2, 2, 5, 5, 6, 7, 74, 87]\n"
     ]
    }
   ],
   "source": [
    "# Cria uma lista vazia\n",
    "lista = []\n",
    "\n",
    "# Entrada de dados\n",
    "for i in range(0,10):\n",
    "    dado = int(input('Entre com um número: '))\n",
    "    lista.append(dado)\n",
    "    \n",
    "# Ordenação\n",
    "lista.sort()\n",
    "\n",
    "print(lista)"
   ]
  },
  {
   "cell_type": "markdown",
   "metadata": {},
   "source": [
    "2. Pesquise e crie exemplos para as operações pop, clear, count, sort, reverse e len.\n",
    "3. Modifique o exemplo do gráfico para desenhar a função seno.\n",
    "4. Modifique o exemplo do gráfico para desenhar uma reta: y = ax + b"
   ]
  }
 ],
 "metadata": {
  "kernelspec": {
   "display_name": "Python 3",
   "language": "python",
   "name": "python3"
  },
  "language_info": {
   "codemirror_mode": {
    "name": "ipython",
    "version": 3
   },
   "file_extension": ".py",
   "mimetype": "text/x-python",
   "name": "python",
   "nbconvert_exporter": "python",
   "pygments_lexer": "ipython3",
   "version": "3.7.3"
  }
 },
 "nbformat": 4,
 "nbformat_minor": 2
}
