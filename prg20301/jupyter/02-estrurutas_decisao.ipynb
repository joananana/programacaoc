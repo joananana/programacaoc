{
 "cells": [
  {
   "cell_type": "markdown",
   "metadata": {},
   "source": [
    "# Estruturas de decisão\n",
    "---"
   ]
  },
  {
   "cell_type": "markdown",
   "metadata": {},
   "source": [
    "Programas que vimos até agora são executos sequencialmente:\n",
    "\n",
    "![fig1](figuras/media_seq.png)\n"
   ]
  },
  {
   "cell_type": "code",
   "execution_count": 4,
   "metadata": {},
   "outputs": [
    {
     "name": "stdout",
     "output_type": "stream",
     "text": [
      "Digite nota 1: 7\n",
      "Digite nota 2: 8\n",
      "Digite nota 3: 9\n",
      "Digite nota 4: 10\n",
      "Média é: 8.5\n"
     ]
    }
   ],
   "source": [
    "# Entrada de dados\n",
    "n1 = float(input('Digite nota 1: '))\n",
    "n2 = float(input('Digite nota 2: '))\n",
    "n3 = float(input('Digite nota 3: '))\n",
    "n4 = float(input('Digite nota 4: '))\n",
    "\n",
    "# Processamento\n",
    "ma = (n1 + n2 + n3 + n4)/4\n",
    "\n",
    "# Saída de dados\n",
    "print('Média é: ' + str(ma))"
   ]
  },
  {
   "cell_type": "markdown",
   "metadata": {},
   "source": [
    "## Decisão simples\n",
    "\n",
    "Como fazemos para alterar a ordem de execução? Por exemplo, gostaríamos de tomar alguma decisão em diferentes situações, como exibir __Bom dia__ ou __Boa noite__ dependendendo da hora do dia? Isso pode ser feito através de estruturas ou instruções de decisão. Como o exemplo abaixo.\n",
    "\n",
    "![fig2](figuras/media-if-simple.png)"
   ]
  },
  {
   "cell_type": "code",
   "execution_count": 6,
   "metadata": {},
   "outputs": [
    {
     "name": "stdout",
     "output_type": "stream",
     "text": [
      "Digite nota 1: 5\n",
      "Digite nota 2: 6\n",
      "Digite nota 3: 1\n",
      "Digite nota 4: 2\n",
      "Recuperação, média é: 3.5\n"
     ]
    }
   ],
   "source": [
    "# Entrada de dados\n",
    "n1 = float(input('Digite nota 1: '))\n",
    "n2 = float(input('Digite nota 2: '))\n",
    "n3 = float(input('Digite nota 3: '))\n",
    "n4 = float(input('Digite nota 4: '))\n",
    "\n",
    "# Processamento\n",
    "ma = (n1 + n2 + n3 + n4)/4\n",
    "\n",
    "# Saída de dados condicionada\n",
    "if (ma < 6):\n",
    "    print('Em Recuperação, média é: ' + str(ma))"
   ]
  },
  {
   "cell_type": "markdown",
   "metadata": {},
   "source": [
    "## Decisão composta\n",
    "\n",
    "Podemos usar uma __estrutura composta__, para executar um código no trecho __senão__:\n",
    "\n",
    "![fig3](figuras/media-if.png)"
   ]
  },
  {
   "cell_type": "code",
   "execution_count": 7,
   "metadata": {},
   "outputs": [
    {
     "name": "stdout",
     "output_type": "stream",
     "text": [
      "Digite nota 1: 5\n",
      "Digite nota 2: 6\n",
      "Digite nota 3: 7\n",
      "Digite nota 4: 8\n",
      "Aprovado, média é: 6.5\n"
     ]
    }
   ],
   "source": [
    "# Entrada de dados\n",
    "n1 = float(input('Digite nota 1: '))\n",
    "n2 = float(input('Digite nota 2: '))\n",
    "n3 = float(input('Digite nota 3: '))\n",
    "n4 = float(input('Digite nota 4: '))\n",
    "\n",
    "# Processamento\n",
    "ma = (n1 + n2 + n3 + n4)/4\n",
    "\n",
    "# Saída de dados condicionada\n",
    "if (ma < 6):\n",
    "    print('Em Recuperação, média é: ' + str(ma))\n",
    "else:\n",
    "    print('Aprovado, média é: ' + str(ma))"
   ]
  },
  {
   "cell_type": "markdown",
   "metadata": {},
   "source": [
    "## Decisão aninhada\n",
    "\n",
    "Estruturas de decisão podem ser ainhadas, ou seja, a mensagem _Sua média foi maior que 9_ é exibida apenas quando a média for maior que 6 e maior que 9.\n",
    "\n",
    "![fig4](figuras/if-nested.png)"
   ]
  },
  {
   "cell_type": "code",
   "execution_count": 1,
   "metadata": {},
   "outputs": [
    {
     "name": "stdout",
     "output_type": "stream",
     "text": [
      "Digite nota 1: 8\n",
      "Digite nota 2: 9\n",
      "Digite nota 3: 10\n",
      "Digite nota 4: 9\n",
      "Aprovado, média é: 9.0\n"
     ]
    }
   ],
   "source": [
    "# Entrada de dados\n",
    "n1 = float(input('Digite nota 1: '))\n",
    "n2 = float(input('Digite nota 2: '))\n",
    "n3 = float(input('Digite nota 3: '))\n",
    "n4 = float(input('Digite nota 4: '))\n",
    "\n",
    "# Processamento\n",
    "ma = (n1 + n2 + n3 + n4)/4\n",
    "\n",
    "# Saída de dados condicionada\n",
    "if (ma < 6):\n",
    "    print('Em Recuperação, média é: ' + str(ma))\n",
    "else:\n",
    "    print('Aprovado, média é: ' + str(ma))\n",
    "    \n",
    "    if (ma > 9):\n",
    "        print('Sua media foi maior que 9.')"
   ]
  },
  {
   "cell_type": "markdown",
   "metadata": {},
   "source": [
    "## Comparações básicas\n",
    "\n",
    "- Comparação com operadores de maior e menor:"
   ]
  },
  {
   "cell_type": "code",
   "execution_count": 8,
   "metadata": {},
   "outputs": [
    {
     "name": "stdout",
     "output_type": "stream",
     "text": [
      "a é menor que b\n",
      "Feito!\n"
     ]
    }
   ],
   "source": [
    "# Variáveis genéricas\n",
    "a = 1\n",
    "b = 5\n",
    "\n",
    "# Comparação básica\n",
    "if a < b:\n",
    "    print(\"a é menor que b\")\n",
    "\n",
    "if a > b:\n",
    "    print(\"a é maior que b\")\n",
    "\n",
    "print(\"Feito!\")"
   ]
  },
  {
   "cell_type": "code",
   "execution_count": 9,
   "metadata": {},
   "outputs": [
    {
     "name": "stdout",
     "output_type": "stream",
     "text": [
      "a é menor ou igual a b\n"
     ]
    }
   ],
   "source": [
    "if a <= b:\n",
    "    print(\"a é menor ou igual a b\")\n",
    "\n",
    "if a >= b:\n",
    "    print(\"a é maior ou igual a b\")"
   ]
  },
  {
   "cell_type": "code",
   "execution_count": 10,
   "metadata": {},
   "outputs": [
    {
     "name": "stdout",
     "output_type": "stream",
     "text": [
      "a e b são diferentes\n"
     ]
    }
   ],
   "source": [
    "# Igualdade\n",
    "if a == b:\n",
    "    print(\"a é igual a b\")\n",
    "\n",
    "# Diferente\n",
    "if a != b:\n",
    "    print(\"a e b são diferentes\")"
   ]
  },
  {
   "cell_type": "markdown",
   "metadata": {},
   "source": [
    "## Indentação\n",
    "\n",
    "__Indentação importa__. Cada linha do __if__ que é indentada somente será executada se o teste for verdadeiro.ment is True:"
   ]
  },
  {
   "cell_type": "code",
   "execution_count": 12,
   "metadata": {},
   "outputs": [
    {
     "name": "stdout",
     "output_type": "stream",
     "text": [
      "Se a é um, isso é impresso.\n",
      "Isso também.\n",
      "E isso.\n",
      "Isso é sempre impresso porque não está identado, ou seja, não pertence a estrutura de decisão.\n"
     ]
    }
   ],
   "source": [
    "if a == 1:\n",
    "    print(\"Se a é um, isso é impresso.\")\n",
    "    print(\"Isso também.\")\n",
    "    print(\"E isso.\")\n",
    "\n",
    "print(\"Isso é sempre impresso porque não está identado, ou seja, não pertence a estrutura de decisão.\")"
   ]
  },
  {
   "cell_type": "code",
   "execution_count": 13,
   "metadata": {},
   "outputs": [
    {
     "ename": "IndentationError",
     "evalue": "unexpected indent (<ipython-input-13-c6a937dc1a96>, line 4)",
     "output_type": "error",
     "traceback": [
      "\u001b[0;36m  File \u001b[0;32m\"<ipython-input-13-c6a937dc1a96>\"\u001b[0;36m, line \u001b[0;32m4\u001b[0m\n\u001b[0;31m    print(\"Indented four. This will generate an error.\")\u001b[0m\n\u001b[0m    ^\u001b[0m\n\u001b[0;31mIndentationError\u001b[0m\u001b[0;31m:\u001b[0m unexpected indent\n"
     ]
    }
   ],
   "source": [
    "# Esse código não é válido\n",
    "if a == 1:\n",
    "  print(\"Indented two spaces.\")\n",
    "    print(\"Indented four. This will generate an error.\")\n",
    "   print(\"The computer will want you to make up your mind.\")"
   ]
  },
  {
   "cell_type": "markdown",
   "metadata": {},
   "source": [
    "## Usando E e OU (and e or)"
   ]
  },
  {
   "cell_type": "markdown",
   "metadata": {},
   "source": [
    "Um __if__ pode verificar mais de uma condição utilizando os operadores E e OU: __and__ e __or__."
   ]
  },
  {
   "cell_type": "code",
   "execution_count": 17,
   "metadata": {},
   "outputs": [
    {
     "name": "stdout",
     "output_type": "stream",
     "text": [
      "a é menor que b e menor que c\n",
      "a é menor que b ou c ou menor que ambos\n"
     ]
    }
   ],
   "source": [
    "# Variáveis genéricas\n",
    "a = 1\n",
    "b = 5\n",
    "c = 7\n",
    "\n",
    "# And\n",
    "if a < b and a < c:\n",
    "    print(\"a é menor que b e menor que c\")\n",
    "\n",
    "# Or\n",
    "if a < b or a < c:\n",
    "    print(\"a é menor que b ou c ou menor que ambos\")"
   ]
  },
  {
   "cell_type": "markdown",
   "metadata": {},
   "source": [
    "## Comparações de texto (string)\n",
    "\n"
   ]
  },
  {
   "cell_type": "code",
   "execution_count": 20,
   "metadata": {},
   "outputs": [
    {
     "name": "stdout",
     "output_type": "stream",
     "text": [
      "Qual é o seu nome? Zeca\n",
      "Seu nome é ok.\n"
     ]
    }
   ],
   "source": [
    "nome_usuario = input(\"Qual é o seu nome? \")\n",
    "if nome_usuario == \"Juca\":\n",
    "    print(\"Você tem um nome muito legal.\")\n",
    "else:\n",
    "    print(\"Seu nome é ok.\")\n"
   ]
  },
  {
   "cell_type": "code",
   "execution_count": 22,
   "metadata": {},
   "outputs": [
    {
     "name": "stdout",
     "output_type": "stream",
     "text": [
      "Sempre verdadeiro!\n"
     ]
    }
   ],
   "source": [
    "# Este código não funciona como esperado! \n",
    "if nome_usuario == \"Juca\" or \"Zezinho\":\n",
    "    print('Sempre verdadeiro!')\n",
    "\n",
    "# Assim que funciona.\n",
    "if nome_usuario == \"Juca\" or nome_usuario == \"Zezinho\":\n",
    "    print(\"Você tem um nome muito legal.\")"
   ]
  },
  {
   "cell_type": "code",
   "execution_count": 23,
   "metadata": {},
   "outputs": [
    {
     "name": "stdout",
     "output_type": "stream",
     "text": [
      "Seu nome é ok.\n"
     ]
    }
   ],
   "source": [
    "# Letras Maiúsculas e Minúsculas são diferentes\n",
    "nome_usuario = \"juca\"\n",
    "\n",
    "if nome_usuario == \"Juca\":\n",
    "    print(\"Você tem um nome muito legal.\")\n",
    "else:\n",
    "    print(\"Seu nome é ok.\")"
   ]
  },
  {
   "cell_type": "code",
   "execution_count": 24,
   "metadata": {},
   "outputs": [
    {
     "name": "stdout",
     "output_type": "stream",
     "text": [
      "Você tem um nome muito legal.\n"
     ]
    }
   ],
   "source": [
    "# Melhor colocar tudo em minúsculo\n",
    "nome_usuario = \"Juca\"\n",
    "\n",
    "if nome_usuario.lower() == \"juca\":\n",
    "    print(\"Você tem um nome muito legal.\")\n",
    "else:\n",
    "    print(\"Seu nome é ok.\")"
   ]
  },
  {
   "cell_type": "code",
   "execution_count": null,
   "metadata": {},
   "outputs": [],
   "source": []
  }
 ],
 "metadata": {
  "kernelspec": {
   "display_name": "Python 3",
   "language": "python",
   "name": "python3"
  },
  "language_info": {
   "codemirror_mode": {
    "name": "ipython",
    "version": 3
   },
   "file_extension": ".py",
   "mimetype": "text/x-python",
   "name": "python",
   "nbconvert_exporter": "python",
   "pygments_lexer": "ipython3",
   "version": "3.7.3"
  }
 },
 "nbformat": 4,
 "nbformat_minor": 2
}
