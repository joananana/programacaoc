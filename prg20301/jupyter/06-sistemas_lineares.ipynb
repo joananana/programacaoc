{
 "cells": [
  {
   "cell_type": "markdown",
   "metadata": {},
   "source": [
    "# Resolução de sistemas lineares\n",
    "\n",
    "- Python pode ser utilizado para a resolução de sistemas lineares.\n",
    "- A resolução de sistemas lineares é importante para circuitos.\n",
    "- Cálculos mais avançados são implementados pela biblioteca __numpy__ (Numeric Python)."
   ]
  },
  {
   "cell_type": "code",
   "execution_count": 1,
   "metadata": {},
   "outputs": [],
   "source": [
    "# Importa numpy\n",
    "import numpy as np"
   ]
  },
  {
   "cell_type": "markdown",
   "metadata": {},
   "source": [
    "- Para resolver um sistema linear:\n",
    "\n",
    "$\\left\\{\n",
    "\\begin{array}{rcrcrc@{\\qquad}l}\n",
    " 3x & + &   y &  = 9 \\\\\n",
    " x  & + &  2y & = 8  \\\\\n",
    "\\end{array}\n",
    "\\right.$\n",
    "\n",
    "- Converte-se para a forma matricial:\n",
    "\n",
    "$$\\begin{bmatrix} 3 & 1 \\\\ 1 & 2 \\end{bmatrix} \\times \\begin{bmatrix} x \\\\ y \\end{bmatrix} = \\begin{bmatrix} 9 \\\\ 8 \\end{bmatrix}$$\n",
    "\n",
    "- Matrizes:\n",
    "\n",
    "$$A * X = C$$\n",
    "\n",
    "$$A = \\begin{bmatrix} 3 & 1 \\\\ 1 & 2 \\end{bmatrix}$$\n",
    "$$X = \\begin{bmatrix} x \\\\ y \\end{bmatrix}$$\n",
    "$$B = \\begin{bmatrix} 9 \\\\ 8 \\end{bmatrix}$$\n"
   ]
  },
  {
   "cell_type": "code",
   "execution_count": 16,
   "metadata": {},
   "outputs": [
    {
     "name": "stdout",
     "output_type": "stream",
     "text": [
      "[2. 3.]\n"
     ]
    }
   ],
   "source": [
    "# Para resolver sistema linear, deve-se utilizar o tipo array no numPy\n",
    "\n",
    "# Matriz A\n",
    "A = np.array([[3,1], \n",
    "              [1,2]])\n",
    "\n",
    "# Matriz B\n",
    "B = np.array([9,8])\n",
    "\n",
    "# Valores de X\n",
    "X = np.linalg.solve(A, B)\n",
    "\n",
    "print(X)"
   ]
  },
  {
   "cell_type": "markdown",
   "metadata": {},
   "source": [
    "## Aplicando numpy na resolução de circuitos\n",
    "\n",
    "![cir1](https://i2.wp.com/eletronworld.com.br/wp-content/uploads/2016/11/Exemplo1Malhas.png)\n",
    "\n",
    "$$-45 + 2i_1 + 12(i_1 - i_2) + 4_i = 0$$\n",
    "$$6i_i - 4_i = 15$$\n",
    "\n",
    "\n",
    "$$9i_2 + 30 + 3i_2 + 12(i_2 - i_1) = 0$$\n",
    "$$-6i_1 + 12i_2 = -15$$\n",
    "\n",
    "\n",
    "$$\\begin{bmatrix} 6 & -4 \\\\ -6 & 12 \\end{bmatrix} \\times \\begin{bmatrix} i_1 \\\\ i_2 \\end{bmatrix} = \\begin{bmatrix} 15 \\\\ -15 \\end{bmatrix}$$"
   ]
  },
  {
   "cell_type": "code",
   "execution_count": 14,
   "metadata": {},
   "outputs": [
    {
     "name": "stdout",
     "output_type": "stream",
     "text": [
      "i0= 2.5 A\n",
      "i1= 0.0 A\n"
     ]
    }
   ],
   "source": [
    "# Matriz A\n",
    "A = np.array([[6,-4], \n",
    "              [-6,12]])\n",
    "\n",
    "# Matriz B\n",
    "B = np.array([15,-15])\n",
    "\n",
    "# Valores de X\n",
    "I = np.linalg.solve(A, B)\n",
    "\n",
    "print('i0=',I[0],'A')\n",
    "print('i1=',I[1],'A')"
   ]
  },
  {
   "cell_type": "markdown",
   "metadata": {},
   "source": [
    "\n",
    "![cir1](https://i2.wp.com/eletronworld.com.br/wp-content/uploads/2016/11/Exemplo2Malhas.png)\n",
    "\n",
    "$$\\begin{bmatrix} 3 & -1 & -2\\\\ -1 & 5 & -9\\\\ -2 & -4 & 9  \\end{bmatrix} \\times \\begin{bmatrix} i_1 \\\\ i_2 \\\\i_3 \\end{bmatrix} = \\begin{bmatrix} 8 \\\\ 0 \\\\ 0 \\end{bmatrix}$$"
   ]
  },
  {
   "cell_type": "code",
   "execution_count": 15,
   "metadata": {},
   "outputs": [
    {
     "name": "stdout",
     "output_type": "stream",
     "text": [
      "i0= -2.5714285714285734 A\n",
      "i1= -7.714285714285717 A\n",
      "i2= -4.000000000000002 A\n"
     ]
    }
   ],
   "source": [
    "# Matriz A\n",
    "A = np.array([[3,-1, -2], \n",
    "              [-1,5,-9],\n",
    "              [-2,-4,9]])\n",
    "\n",
    "# Matriz B\n",
    "B = np.array([8,0,0])\n",
    "\n",
    "# Valores de X\n",
    "I = np.linalg.solve(A, B)\n",
    "\n",
    "print('i0=',I[0],'A')\n",
    "print('i1=',I[1],'A')\n",
    "print('i2=',I[2],'A')"
   ]
  },
  {
   "cell_type": "markdown",
   "metadata": {},
   "source": [
    "## Referências\n",
    "\n",
    "- [Exemplos utilizados](http://eletronworld.com.br/circuito-eletricos/analise-de-circuitos-metodo-das-malhas/)"
   ]
  }
 ],
 "metadata": {
  "kernelspec": {
   "display_name": "Python 3",
   "language": "python",
   "name": "python3"
  },
  "language_info": {
   "codemirror_mode": {
    "name": "ipython",
    "version": 3
   },
   "file_extension": ".py",
   "mimetype": "text/x-python",
   "name": "python",
   "nbconvert_exporter": "python",
   "pygments_lexer": "ipython3",
   "version": "3.7.3"
  }
 },
 "nbformat": 4,
 "nbformat_minor": 2
}
