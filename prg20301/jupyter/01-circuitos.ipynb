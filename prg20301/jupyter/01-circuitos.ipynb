{
 "cells": [
  {
   "cell_type": "markdown",
   "metadata": {},
   "source": [
    "# Exemplo de memorial de cálculo para circuitos"
   ]
  },
  {
   "cell_type": "markdown",
   "metadata": {},
   "source": [
    "Python e o jupyter-notebook podem ajudar na resolução de circuitos. \n",
    "\n",
    "## Calcule Vo para o circuito abaixo.\n",
    "\n",
    "![Circuito_1](./figuras/circuito01.png)\n"
   ]
  },
  {
   "cell_type": "code",
   "execution_count": 7,
   "metadata": {},
   "outputs": [
    {
     "name": "stdout",
     "output_type": "stream",
     "text": [
      "I=1.6A\n",
      "v0=6.4V\n"
     ]
    }
   ],
   "source": [
    "Vf = 16\n",
    "# Resistores\n",
    "R1 = 4\n",
    "R2 = 6\n",
    "\n",
    "# Resistor equivalente\n",
    "Req = R1 + R2\n",
    "\n",
    "# Corrente da fonte\n",
    "I = Vf / Req\n",
    "\n",
    "# Corrente de R1=4 é a corrente da fonte, portanto\n",
    "v0 = R1 * I\n",
    "\n",
    "print(\"I=\" + str(I) + 'A')\n",
    "print(\"v0=\" + str(v0) + 'V')"
   ]
  },
  {
   "cell_type": "markdown",
   "metadata": {},
   "source": [
    "## Determine v1, v2 e v3 para o circuito abaixo.\n",
    "\n",
    "![Circuito_2](./figuras/circuito02.png)"
   ]
  },
  {
   "cell_type": "code",
   "execution_count": 17,
   "metadata": {},
   "outputs": [
    {
     "name": "stdout",
     "output_type": "stream",
     "text": [
      "Req=20.0\n",
      "I=2.0\n",
      "v1=28.0\n",
      "v2=12.0\n",
      "v3=12.0\n",
      "i em R2=0.8\n",
      "i em R2=1.2\n"
     ]
    }
   ],
   "source": [
    "# Parâmetros do circuito\n",
    "Vf = 40\n",
    "\n",
    "R1 = 14\n",
    "R2 = 15\n",
    "R3 = 10\n",
    "\n",
    "# Resistor equivalente: R1 + R2 || R3\n",
    "Req = R1 + (R2 * R3)/(R2 + R3)\n",
    "\n",
    "# Ou Req = R1 + (1/R2 + 1/R3)**(-1)\n",
    "\n",
    "# Corrente total\n",
    "I = Vf / Req\n",
    "\n",
    "# V1 é a corrente total * R1\n",
    "v1 = R1 * I\n",
    "\n",
    "# V2 e V3 são iguais pois R2 e R3 estão em paralelo\n",
    "v2 = v3 = Vf - v1\n",
    "\n",
    "# Correntes em R2 e R3\n",
    "i_r2 = v2 / R2\n",
    "i_r3 = v3 / R3\n",
    "\n",
    "print('Req=' + str(Req))\n",
    "print(\"I=\" + str(I))\n",
    "print(\"v1=\" + str(v1))\n",
    "print(\"v2=\" + str(v2))\n",
    "print(\"v3=\" + str(v3))\n",
    "print(\"i em R2=\" + str(i_r2))\n",
    "print(\"i em R2=\" + str(i_r3))\n"
   ]
  },
  {
   "cell_type": "markdown",
   "metadata": {},
   "source": [
    "## Determine i1 a i5 para o circuito abaixo.\n",
    "\n",
    "![Circuito_3](./figuras/circuito03.png)"
   ]
  },
  {
   "cell_type": "code",
   "execution_count": null,
   "metadata": {},
   "outputs": [],
   "source": [
    "# Implemente aqui!"
   ]
  }
 ],
 "metadata": {
  "kernelspec": {
   "display_name": "Python 3",
   "language": "python",
   "name": "python3"
  },
  "language_info": {
   "codemirror_mode": {
    "name": "ipython",
    "version": 3
   },
   "file_extension": ".py",
   "mimetype": "text/x-python",
   "name": "python",
   "nbconvert_exporter": "python",
   "pygments_lexer": "ipython3",
   "version": "3.7.3"
  }
 },
 "nbformat": 4,
 "nbformat_minor": 2
}
