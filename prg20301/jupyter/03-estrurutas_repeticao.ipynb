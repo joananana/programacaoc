{
 "cells": [
  {
   "cell_type": "markdown",
   "metadata": {},
   "source": [
    "# Estruturas de repetição"
   ]
  },
  {
   "cell_type": "code",
   "execution_count": 3,
   "metadata": {},
   "outputs": [
    {
     "name": "stdout",
     "output_type": "stream",
     "text": [
      "Aluno: 0\n",
      "Digite nota 1: 6\n",
      "Digite nota 2: 3\n",
      "Digite nota 3: 4\n",
      "Digite nota 4: 5\n",
      "Em recuperacao: 4.5\n",
      "Aluno: 1\n",
      "Digite nota 1: 7\n",
      "Digite nota 2: 8\n",
      "Digite nota 3: 9\n",
      "Digite nota 4: 6\n",
      "Aprovado: 7.5\n"
     ]
    }
   ],
   "source": [
    "# Variável de contagem (condição do while)\n",
    "contador = 0\n",
    "\n",
    "# Repetição\n",
    "while (contador < 2):\n",
    "    print('Aluno: ' + str(contador))\n",
    "    \n",
    "    # Entrada de dados\n",
    "    n1 = float(input('Digite nota 1: '))\n",
    "    n2 = float(input('Digite nota 2: '))\n",
    "    n3 = float(input('Digite nota 3: '))\n",
    "    n4 = float(input('Digite nota 4: '))\n",
    "\n",
    "    # Processamento\n",
    "    ma = (n1 + n2 + n3 + n4) / 4\n",
    "    \n",
    "    # Decisão\n",
    "    if ma < 6:\n",
    "        print('Em recuperação: ' + str(ma))\n",
    "    else:\n",
    "        print('Aprovado: ' + str(ma))\n",
    "    \n",
    "    # Contador de alunos\n",
    "    contador = contador + 1\n",
    "\n",
    "# Fim do while (indentado à direita)\n",
    "print('Cálculos concluídos')"
   ]
  },
  {
   "cell_type": "code",
   "execution_count": 7,
   "metadata": {},
   "outputs": [
    {
     "name": "stdout",
     "output_type": "stream",
     "text": [
      "Digite nota 1: 6\n",
      "Digite nota 2: 7\n",
      "Digite nota 3: 2\n",
      "Digite nota 4: 1\n",
      "Em recuperação: 4.0\n",
      "Deseja continuar (s/n): s\n",
      "Digite nota 1: 79\n",
      "Digite nota 2: 9\n",
      "Digite nota 3: 4\n",
      "Digite nota 4: 5\n",
      "Aprovado: 24.25\n",
      "Deseja continuar (s/n): 6\n"
     ]
    }
   ],
   "source": [
    "# Continuação (condição do while)\n",
    "continuar = 's'\n",
    "\n",
    "# Repetição\n",
    "while (continuar == 's'):\n",
    "    \n",
    "    # Entrada de dados\n",
    "    n1 = float(input('Digite nota 1: '))\n",
    "    n2 = float(input('Digite nota 2: '))\n",
    "    n3 = float(input('Digite nota 3: '))\n",
    "    n4 = float(input('Digite nota 4: '))\n",
    "\n",
    "    # Processamento\n",
    "    ma = (n1 + n2 + n3 + n4) / 4\n",
    "    \n",
    "    # Decisão\n",
    "    if ma < 6:\n",
    "        print('Em recuperação: ' + str(ma))\n",
    "    else:\n",
    "        print('Aprovado: ' + str(ma))\n",
    "\n",
    "    # Continuar ou não?\n",
    "    continuar = input('Deseja continuar (s/n): ')\n",
    "\n",
    "# Fim do while (indentado à direita)"
   ]
  },
  {
   "cell_type": "code",
   "execution_count": 9,
   "metadata": {},
   "outputs": [
    {
     "name": "stdout",
     "output_type": "stream",
     "text": [
      "b\n",
      "a\n",
      "n\n",
      "a\n",
      "n\n",
      "a\n"
     ]
    }
   ],
   "source": [
    "for letra in \"banana\":\n",
    "  print(letra)"
   ]
  },
  {
   "cell_type": "code",
   "execution_count": 11,
   "metadata": {},
   "outputs": [
    {
     "name": "stdout",
     "output_type": "stream",
     "text": [
      "b\n",
      "A\n",
      "n\n",
      "A\n",
      "n\n",
      "A\n"
     ]
    }
   ],
   "source": [
    "for letra in \"banana\":\n",
    "    if letra == 'a':\n",
    "        print('A')\n",
    "    else:\n",
    "        print(letra)    "
   ]
  },
  {
   "cell_type": "code",
   "execution_count": 12,
   "metadata": {},
   "outputs": [
    {
     "name": "stdout",
     "output_type": "stream",
     "text": [
      "0\n",
      "1\n",
      "2\n",
      "3\n",
      "4\n",
      "5\n"
     ]
    }
   ],
   "source": [
    "# Para uma sequência de 6 números: [0,6]\n",
    "for numero in range(6):\n",
    "    print(numero)"
   ]
  },
  {
   "cell_type": "code",
   "execution_count": 18,
   "metadata": {},
   "outputs": [
    {
     "name": "stdout",
     "output_type": "stream",
     "text": [
      "2\n",
      "3\n",
      "4\n",
      "5\n",
      "6\n",
      "7\n",
      "8\n",
      "9\n"
     ]
    }
   ],
   "source": [
    "# Range pode começar em 2 até 10, mas 10 não incluso\n",
    "for numero in range(2,10):     # Intervalo [2,10[\n",
    "    print(numero)    "
   ]
  },
  {
   "cell_type": "code",
   "execution_count": 19,
   "metadata": {},
   "outputs": [
    {
     "name": "stdout",
     "output_type": "stream",
     "text": [
      "2\n",
      "5\n",
      "8\n",
      "11\n",
      "14\n",
      "17\n",
      "20\n",
      "23\n",
      "26\n",
      "29\n"
     ]
    }
   ],
   "source": [
    "for numero in range(2,30,3):\n",
    "    print(numero)"
   ]
  },
  {
   "cell_type": "code",
   "execution_count": 24,
   "metadata": {},
   "outputs": [
    {
     "name": "stdout",
     "output_type": "stream",
     "text": [
      "Qual tabuada? 5\n",
      "Range(0,11)\n",
      "0\n",
      "5\n",
      "10\n",
      "15\n",
      "20\n",
      "25\n",
      "30\n",
      "35\n",
      "40\n",
      "45\n",
      "50\n",
      "Range mais esperto\n",
      "0\n",
      "5\n",
      "10\n",
      "15\n",
      "20\n",
      "25\n",
      "30\n",
      "35\n",
      "40\n",
      "45\n",
      "50\n"
     ]
    }
   ],
   "source": [
    "# Pede para o usuário\n",
    "tabuada = int(input('Qual tabuada? '))\n",
    "\n",
    "print('Range(0,11)')\n",
    "for numero in range(0,11):\n",
    "    print(numero * tabuada)\n",
    "    \n",
    "# ou\n",
    "print('Range mais esperto')\n",
    "for numero in range(0, tabuada * 11, tabuada):\n",
    "    print(numero)"
   ]
  },
  {
   "cell_type": "code",
   "execution_count": 25,
   "metadata": {},
   "outputs": [
    {
     "name": "stdout",
     "output_type": "stream",
     "text": [
      "192\n",
      "164\n",
      "138\n",
      "114\n",
      "92\n",
      "72\n",
      "54\n",
      "38\n",
      "24\n",
      "12\n",
      "2\n",
      "-6\n",
      "-12\n",
      "-16\n",
      "-18\n",
      "-18\n",
      "-16\n",
      "-12\n",
      "-6\n",
      "2\n",
      "12\n"
     ]
    }
   ],
   "source": [
    "# Valores de uma parábola\n",
    "\n",
    "for x in range(-10,11):\n",
    "    y = x**2 -9*x + 2\n",
    "    print(y)"
   ]
  },
  {
   "cell_type": "code",
   "execution_count": null,
   "metadata": {},
   "outputs": [],
   "source": []
  }
 ],
 "metadata": {
  "kernelspec": {
   "display_name": "Python 3",
   "language": "python",
   "name": "python3"
  },
  "language_info": {
   "codemirror_mode": {
    "name": "ipython",
    "version": 3
   },
   "file_extension": ".py",
   "mimetype": "text/x-python",
   "name": "python",
   "nbconvert_exporter": "python",
   "pygments_lexer": "ipython3",
   "version": "3.7.3"
  }
 },
 "nbformat": 4,
 "nbformat_minor": 2
}
